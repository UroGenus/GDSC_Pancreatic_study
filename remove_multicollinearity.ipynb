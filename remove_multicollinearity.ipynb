{
 "cells": [
  {
   "cell_type": "code",
   "execution_count": 1,
   "id": "de2e3354",
   "metadata": {},
   "outputs": [],
   "source": [
    "import pandas as pd\n",
    "import os\n",
    "import matplotlib.pyplot as plt\n",
    "import seaborn as sns\n",
    "from tqdm import notebook\n",
    "import scipy.stats\n",
    "from sklearn.metrics import mean_squared_error\n",
    "%matplotlib inline\n",
    "import numpy as np\n",
    "\n",
    "import umap\n",
    "import umap.plot\n",
    "reducer = umap.UMAP(random_state=42)\n",
    "\n",
    "plt.rcParams.update({'font.family': 'serif', 'font.serif': 'Arial', \"figure.facecolor\": \n",
    "                     'white', \"axes.facecolor\": 'white',\n",
    "                     \"savefig.facecolor\": 'white'})"
   ]
  },
  {
   "cell_type": "code",
   "execution_count": 2,
   "id": "1f622210",
   "metadata": {},
   "outputs": [
    {
     "data": {
      "text/plain": [
       "(55, 50651)"
      ]
     },
     "execution_count": 2,
     "metadata": {},
     "output_type": "execute_result"
    }
   ],
   "source": [
    "counts_file = 'data/Pancreatic/Pancreatic_RNAseq_tpm.csv'\n",
    "counts_df = pd.read_csv(counts_file, index_col = 0)\n",
    "\n",
    "# remove genes with constant values\n",
    "constant_columns = counts_df.columns[counts_df.nunique() <= 1]\n",
    "counts_df = counts_df.drop(columns = constant_columns)\n",
    "counts_df.shape"
   ]
  },
  {
   "cell_type": "code",
   "execution_count": 3,
   "id": "5b0ac91f",
   "metadata": {},
   "outputs": [
    {
     "name": "stdout",
     "output_type": "stream",
     "text": [
      "43\n"
     ]
    }
   ],
   "source": [
    "viability_file = 'data/Pancreatic/viability.csv'\n",
    "viability_df = pd.read_csv(viability_file, index_col = 0)\n",
    "drugs = viability_df.columns\n",
    "viability_df = (viability_df - viability_df.mean()) / viability_df.std()\n",
    "\n",
    "shared_patients = list(set(counts_df.index) & set(viability_df.index))\n",
    "print(len(shared_patients))\n",
    "counts_df = counts_df.loc[shared_patients]\n",
    "viability_df = viability_df.loc[shared_patients]"
   ]
  },
  {
   "cell_type": "code",
   "execution_count": 4,
   "id": "8ccaa9f8",
   "metadata": {},
   "outputs": [
    {
     "name": "stdout",
     "output_type": "stream",
     "text": [
      "Removed constant features 1000\n"
     ]
    }
   ],
   "source": [
    "from sklearn.preprocessing import StandardScaler\n",
    "from sklearn.preprocessing import PowerTransformer\n",
    "\n",
    "features_df = counts_df\n",
    "\n",
    "ss = StandardScaler()\n",
    "pt = PowerTransformer()\n",
    "\n",
    "# OPTION 0 (no norm)\n",
    "#features_norm_df = features_df\n",
    "\n",
    "#OPTION 1\n",
    "#features_norm_df = pd.DataFrame(pt.fit_transform(features_df), index = features_df.index, columns = features_df.columns)\n",
    "\n",
    "# OPTION 2\n",
    "#features_norm_df = pd.DataFrame(ss.fit_transform(features_df), index = features_df.index, columns = features_df.columns)\n",
    "\n",
    "# OPTION 3 (Seurat normalization)\n",
    "#features_norm_df = np.log2((features_df.T / features_df.T.sum().values) * 10000 + 1).T \n",
    "\n",
    "# OPTION 4\n",
    "def _handle_zeros_in_scale(scale, copy=True):\n",
    "    \"\"\"\n",
    "    This method is copied `from sklearn.preprocessing._data`\n",
    "    Makes sure that whenever scale is zero, we handle it correctly.\n",
    "    This happens in most scalers when we have constant features.\n",
    "    \"\"\"\n",
    "    # if we are fitting on 1D arrays, scale might be a scalar\n",
    "    if np.isscalar(scale):\n",
    "        if scale == 0.0:\n",
    "            scale = 1.0\n",
    "        return scale\n",
    "    elif isinstance(scale, np.ndarray):\n",
    "        if copy:\n",
    "            # New array to avoid side-effects\n",
    "            scale = scale.copy()\n",
    "        scale[scale == 0.0] = 1.0\n",
    "        return scale\n",
    "\n",
    "def transform_standardize(data, mean, std):\n",
    "    return (data - mean) / _handle_zeros_in_scale(std, copy=False)\n",
    "\n",
    "features_norm_df = transform_standardize(features_df, features_df.mean(), features_df.std().values)\n",
    "\n",
    "constant_columns = features_norm_df.columns[features_norm_df.nunique() <= 1]\n",
    "features_norm_df = features_norm_df.drop(columns = constant_columns)\n",
    "print('Removed constant features', len(constant_columns))"
   ]
  },
  {
   "cell_type": "code",
   "execution_count": 5,
   "id": "73e3fb57",
   "metadata": {},
   "outputs": [],
   "source": [
    "import decoupler as dc\n",
    "dorothea = dc.get_dorothea()\n",
    "progeny = dc.get_progeny()\n",
    "dorothea_genes = list(set(dorothea.source.unique()) & set(dorothea.target.unique()))\n",
    "progeny_genes = list(set(progeny.target.unique()))\n",
    "net_genes = list(set(dorothea_genes+progeny_genes))\n",
    "shared_genes = list(set(net_genes) & set(features_norm_df.columns))"
   ]
  },
  {
   "cell_type": "code",
   "execution_count": 6,
   "id": "e046ccc7",
   "metadata": {},
   "outputs": [],
   "source": [
    "feat_dist = 1-features_norm_df.corr().abs()"
   ]
  },
  {
   "cell_type": "code",
   "execution_count": 8,
   "id": "919c2273",
   "metadata": {},
   "outputs": [
    {
     "name": "stdout",
     "output_type": "stream",
     "text": [
      "49651 17387\n"
     ]
    }
   ],
   "source": [
    "from sklearn.cluster import AgglomerativeClustering\n",
    "\n",
    "gene_clusters = AgglomerativeClustering(affinity = 'precomputed', \n",
    "                                        n_clusters = None, linkage = 'complete',\n",
    "                                       distance_threshold = 0.4).fit(feat_dist)\n",
    "print(len(feat_dist), len(np.unique(gene_clusters.labels_)))"
   ]
  },
  {
   "cell_type": "code",
   "execution_count": 40,
   "id": "5ec55b79",
   "metadata": {},
   "outputs": [],
   "source": [
    "gene_clusters_df = pd.DataFrame({'cluster': gene_clusters.labels_}, index = feat_dist.index)"
   ]
  },
  {
   "cell_type": "code",
   "execution_count": 47,
   "id": "007b7ca2",
   "metadata": {},
   "outputs": [
    {
     "name": "stdout",
     "output_type": "stream",
     "text": [
      "Next iteration\n",
      "17387 10622\n",
      "Next iteration\n",
      "10622 8039\n",
      "Next iteration\n",
      "8039 6941\n",
      "Next iteration\n",
      "6941 6464\n",
      "Next iteration\n",
      "6464 6222\n",
      "Next iteration\n",
      "6222 6099\n",
      "Next iteration\n",
      "6099 6042\n",
      "Next iteration\n",
      "6042 6009\n",
      "Next iteration\n",
      "6009 5990\n",
      "Next iteration\n",
      "5990 5975\n",
      "Next iteration\n",
      "5975 5967\n",
      "Next iteration\n",
      "5967 5965\n",
      "Next iteration\n",
      "5965 5964\n",
      "Next iteration\n",
      "5964 5963\n",
      "Next iteration\n",
      "5963 5963\n"
     ]
    }
   ],
   "source": [
    "def select_genes(gene_clusters_df):\n",
    "    selected_genes = []\n",
    "    for c, rows in gene_clusters_df.groupby('cluster'):\n",
    "        genes_in_net = rows[rows.index.isin(net_genes)]\n",
    "        if len(genes_in_net)==0: sel_gene = rows.index.values[0]\n",
    "        else: \n",
    "            sel_gene = genes_in_net.index.values[0]\n",
    "        selected_genes.append(sel_gene)\n",
    "    return selected_genes\n",
    "\n",
    "stop = False\n",
    "while not stop:\n",
    "    print('Next iteration')\n",
    "    selected_genes = select_genes(gene_clusters_df)\n",
    "    \n",
    "    gene_clusters_loc = AgglomerativeClustering(affinity = 'precomputed', \n",
    "                                    n_clusters = None, linkage = 'complete',\n",
    "                                    distance_threshold = 0.4).fit(feat_dist.loc[selected_genes][selected_genes])\n",
    "    gene_clusters_df = pd.DataFrame({'cluster': gene_clusters_loc.labels_}, index = selected_genes)\n",
    "    if len(np.unique(gene_clusters_loc.labels_)) == len(selected_genes):\n",
    "        stop = True  \n",
    "        \n",
    "    print(len(selected_genes), len(np.unique(gene_clusters_loc.labels_)))"
   ]
  },
  {
   "cell_type": "code",
   "execution_count": 53,
   "id": "a664a6bf",
   "metadata": {},
   "outputs": [
    {
     "data": {
      "text/plain": [
       "0.40000941575954496"
      ]
     },
     "execution_count": 53,
     "metadata": {},
     "output_type": "execute_result"
    }
   ],
   "source": [
    "test = feat_dist.loc[selected_genes][selected_genes]\n",
    "test.where(test.gt(0)).min(0).min()"
   ]
  },
  {
   "cell_type": "code",
   "execution_count": 1,
   "id": "a77f7420",
   "metadata": {},
   "outputs": [
    {
     "ename": "NameError",
     "evalue": "name 'test' is not defined",
     "output_type": "error",
     "traceback": [
      "\u001b[0;31m---------------------------------------------------------------------------\u001b[0m",
      "\u001b[0;31mNameError\u001b[0m                                 Traceback (most recent call last)",
      "Cell \u001b[0;32mIn [1], line 1\u001b[0m\n\u001b[0;32m----> 1\u001b[0m test\u001b[38;5;241m.\u001b[39mwhere(test\u001b[38;5;241m.\u001b[39mgt(\u001b[38;5;241m0\u001b[39m))\u001b[38;5;241m.\u001b[39mmin(\u001b[38;5;241m0\u001b[39m)\u001b[38;5;241m.\u001b[39msort_values()\n",
      "\u001b[0;31mNameError\u001b[0m: name 'test' is not defined"
     ]
    }
   ],
   "source": [
    "test.where(test.gt(0)).min(0).sort_values()"
   ]
  },
  {
   "cell_type": "code",
   "execution_count": 56,
   "id": "d02b1ad1",
   "metadata": {},
   "outputs": [],
   "source": [
    "import pickle\n",
    "with open('data/Pancreatic/non_colin_genes', 'wb') as fp:\n",
    "    pickle.dump(selected_genes, fp)"
   ]
  },
  {
   "cell_type": "code",
   "execution_count": null,
   "id": "03ea335f",
   "metadata": {},
   "outputs": [],
   "source": []
  }
 ],
 "metadata": {
  "kernelspec": {
   "display_name": "Python 3",
   "language": "python",
   "name": "python3"
  },
  "language_info": {
   "codemirror_mode": {
    "name": "ipython",
    "version": 3
   },
   "file_extension": ".py",
   "mimetype": "text/x-python",
   "name": "python",
   "nbconvert_exporter": "python",
   "pygments_lexer": "ipython3",
   "version": "3.9.12"
  }
 },
 "nbformat": 4,
 "nbformat_minor": 5
}
