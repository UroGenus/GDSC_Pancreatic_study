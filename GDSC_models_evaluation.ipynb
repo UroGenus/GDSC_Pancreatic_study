{
 "cells": [
  {
   "cell_type": "code",
   "execution_count": 17,
   "metadata": {},
   "outputs": [],
   "source": [
    "import pandas as pd\n",
    "import numpy as np\n",
    "import joblib\n",
    "import time\n",
    "import socket\n",
    "import os\n",
    "import matplotlib.pyplot as plt\n",
    "import seaborn as sns\n",
    "from tqdm import notebook\n",
    "\n",
    "%matplotlib inline"
   ]
  },
  {
   "cell_type": "code",
   "execution_count": 41,
   "metadata": {},
   "outputs": [],
   "source": [
    "from sklearn.metrics import ndcg_score\n",
    "\n",
    "def precision(actual, predicted, k):\n",
    "    act_set = set(actual[:k])\n",
    "    pred_set = set(predicted[:k])\n",
    "    result = len(act_set & pred_set) / float(k)\n",
    "    \n",
    "    return result\n",
    "    \n",
    "def evaluate_ranking(pred, test, k=5, exponential_scaling=False):    \n",
    "    ndcg = []\n",
    "    prec  = []\n",
    "    for i, pred_row in pred.iterrows():\n",
    "        test_row = test.loc[i]\n",
    "        shared_drugs = list(set(pred_row.dropna().index) & set(test_row.dropna().index))\n",
    "        test_row = test_row[shared_drugs]\n",
    "        pred_row = pred_row[shared_drugs]\n",
    "        \n",
    "        pred_order = pred_row.sort_values().index.tolist()\n",
    "        test_order = test_row.sort_values().index.tolist()\n",
    "                        \n",
    "        if len(shared_drugs) > 1:\n",
    "            ndcg.append(ndcg_score([test_row.values], [pred_row.values], k=k))\n",
    "            \n",
    "        prec.append(precision(test_order, pred_order, k=k))\n",
    "        \n",
    "        \n",
    "    return (np.mean(prec), np.mean(ndcg))\n",
    "\n",
    "import scipy.stats\n",
    "from sklearn.metrics import mean_squared_error\n",
    "\n",
    "def evaluate_mse_pearson(pred, gt):\n",
    "    pearson_list = []\n",
    "    pval_list = []\n",
    "    mse_list = []\n",
    "    for i, row in pred.iterrows():\n",
    "        p = row.dropna()\n",
    "        g = gt.loc[i].dropna()\n",
    "        mse = mean_squared_error(p, g)\n",
    "        mse_list.append(mse)\n",
    "        if len(p)>5 and len(np.unique(p))>1: \n",
    "            pearsonr = scipy.stats.pearsonr(p, g)\n",
    "            pearson_list.append(pearsonr[0])\n",
    "            pval_list.append(pearsonr[1])\n",
    "        #else: \n",
    "        #    pearson_list.append(np.nan)\n",
    "        #    pval_list.append(np.nan)\n",
    "    return np.mean(mse_list), np.mean(pearson_list), np.mean(pval_list)\n",
    "\n",
    "def evaluate_mse_pearson_per_drug(pred, gt):\n",
    "    pearson_list = []\n",
    "    pval_list = []\n",
    "    mse_list = []\n",
    "    for drug in pred.columns:\n",
    "        p = pred[drug].dropna()\n",
    "        g = gt[drug].dropna()\n",
    "        mse = mean_squared_error(p, g)\n",
    "        mse_list.append(mse)\n",
    "        if len(p)>5 and len(np.unique(p))>1: \n",
    "            pearsonr = scipy.stats.pearsonr(p, g)\n",
    "            pearson_list.append(pearsonr[0])\n",
    "            pval_list.append(pearsonr[1])\n",
    "        #else: \n",
    "        #    pearson_list.append(np.nan)\n",
    "        #    pval_list.append(np.nan)\n",
    "    return np.mean(mse_list), np.mean(pearson_list), np.mean(pval_list)"
   ]
  },
  {
   "cell_type": "code",
   "execution_count": 45,
   "metadata": {},
   "outputs": [
    {
     "data": {
      "application/vnd.jupyter.widget-view+json": {
       "model_id": "1380360598464a778de0b56f39ae885e",
       "version_major": 2,
       "version_minor": 0
      },
      "text/plain": [
       "  0%|          | 0/3 [00:00<?, ?it/s]"
      ]
     },
     "metadata": {},
     "output_type": "display_data"
    },
    {
     "data": {
      "application/vnd.jupyter.widget-view+json": {
       "model_id": "",
       "version_major": 2,
       "version_minor": 0
      },
      "text/plain": [
       "  0%|          | 0/5 [00:00<?, ?it/s]"
      ]
     },
     "metadata": {},
     "output_type": "display_data"
    },
    {
     "name": "stdout",
     "output_type": "stream",
     "text": [
      "IC50 deepCDR deepCDR\n",
      "IC50 deepCDR deepCDR_zeros\n"
     ]
    },
    {
     "name": "stderr",
     "output_type": "stream",
     "text": [
      "/Users/katja/miniconda3/lib/python3.9/site-packages/numpy/core/fromnumeric.py:3432: RuntimeWarning: Mean of empty slice.\n",
      "  return _methods._mean(a, axis=axis, dtype=dtype,\n",
      "/Users/katja/miniconda3/lib/python3.9/site-packages/numpy/core/_methods.py:190: RuntimeWarning: invalid value encountered in double_scalars\n",
      "  ret = ret.dtype.type(ret / rcount)\n"
     ]
    },
    {
     "name": "stdout",
     "output_type": "stream",
     "text": [
      "IC50 knn knn_paccmann\n",
      "IC50 knn knn_zeros\n"
     ]
    },
    {
     "name": "stderr",
     "output_type": "stream",
     "text": [
      "/Users/katja/miniconda3/lib/python3.9/site-packages/numpy/core/fromnumeric.py:3432: RuntimeWarning: Mean of empty slice.\n",
      "  return _methods._mean(a, axis=axis, dtype=dtype,\n",
      "/Users/katja/miniconda3/lib/python3.9/site-packages/numpy/core/_methods.py:190: RuntimeWarning: invalid value encountered in double_scalars\n",
      "  ret = ret.dtype.type(ret / rcount)\n"
     ]
    },
    {
     "name": "stdout",
     "output_type": "stream",
     "text": [
      "IC50 mean_baseline mean_baseline\n"
     ]
    },
    {
     "name": "stderr",
     "output_type": "stream",
     "text": [
      "/Users/katja/miniconda3/lib/python3.9/site-packages/numpy/core/fromnumeric.py:3432: RuntimeWarning: Mean of empty slice.\n",
      "  return _methods._mean(a, axis=axis, dtype=dtype,\n",
      "/Users/katja/miniconda3/lib/python3.9/site-packages/numpy/core/_methods.py:190: RuntimeWarning: invalid value encountered in double_scalars\n",
      "  ret = ret.dtype.type(ret / rcount)\n"
     ]
    },
    {
     "name": "stdout",
     "output_type": "stream",
     "text": [
      "IC50 lin_reg_feat_sel lin_reg_feat_sel\n",
      "IC50 lin_reg_feat_sel lin_reg_paccmann_genes\n",
      "IC50 paccmann paccmann_mse\n",
      "IC50 paccmann paccmann_mse_zeros\n"
     ]
    },
    {
     "name": "stderr",
     "output_type": "stream",
     "text": [
      "/Users/katja/miniconda3/lib/python3.9/site-packages/numpy/core/fromnumeric.py:3432: RuntimeWarning: Mean of empty slice.\n",
      "  return _methods._mean(a, axis=axis, dtype=dtype,\n",
      "/Users/katja/miniconda3/lib/python3.9/site-packages/numpy/core/_methods.py:190: RuntimeWarning: invalid value encountered in double_scalars\n",
      "  ret = ret.dtype.type(ret / rcount)\n"
     ]
    },
    {
     "name": "stdout",
     "output_type": "stream",
     "text": [
      "IC50 baseline_nn nn_baseline_mse_zeros\n"
     ]
    },
    {
     "name": "stderr",
     "output_type": "stream",
     "text": [
      "/Users/katja/miniconda3/lib/python3.9/site-packages/numpy/core/fromnumeric.py:3432: RuntimeWarning: Mean of empty slice.\n",
      "  return _methods._mean(a, axis=axis, dtype=dtype,\n",
      "/Users/katja/miniconda3/lib/python3.9/site-packages/numpy/core/_methods.py:190: RuntimeWarning: invalid value encountered in double_scalars\n",
      "  ret = ret.dtype.type(ret / rcount)\n"
     ]
    },
    {
     "name": "stdout",
     "output_type": "stream",
     "text": [
      "IC50 baseline_nn nn_baseline_mse\n",
      "IC50 deepCDR deepCDR\n",
      "IC50 deepCDR deepCDR_zeros\n"
     ]
    },
    {
     "name": "stderr",
     "output_type": "stream",
     "text": [
      "/Users/katja/miniconda3/lib/python3.9/site-packages/numpy/core/fromnumeric.py:3432: RuntimeWarning: Mean of empty slice.\n",
      "  return _methods._mean(a, axis=axis, dtype=dtype,\n",
      "/Users/katja/miniconda3/lib/python3.9/site-packages/numpy/core/_methods.py:190: RuntimeWarning: invalid value encountered in double_scalars\n",
      "  ret = ret.dtype.type(ret / rcount)\n"
     ]
    },
    {
     "name": "stdout",
     "output_type": "stream",
     "text": [
      "IC50 knn knn_paccmann\n",
      "IC50 knn knn_zeros\n"
     ]
    },
    {
     "name": "stderr",
     "output_type": "stream",
     "text": [
      "/Users/katja/miniconda3/lib/python3.9/site-packages/numpy/core/fromnumeric.py:3432: RuntimeWarning: Mean of empty slice.\n",
      "  return _methods._mean(a, axis=axis, dtype=dtype,\n",
      "/Users/katja/miniconda3/lib/python3.9/site-packages/numpy/core/_methods.py:190: RuntimeWarning: invalid value encountered in double_scalars\n",
      "  ret = ret.dtype.type(ret / rcount)\n"
     ]
    },
    {
     "name": "stdout",
     "output_type": "stream",
     "text": [
      "IC50 mean_baseline mean_baseline\n"
     ]
    },
    {
     "name": "stderr",
     "output_type": "stream",
     "text": [
      "/Users/katja/miniconda3/lib/python3.9/site-packages/numpy/core/fromnumeric.py:3432: RuntimeWarning: Mean of empty slice.\n",
      "  return _methods._mean(a, axis=axis, dtype=dtype,\n",
      "/Users/katja/miniconda3/lib/python3.9/site-packages/numpy/core/_methods.py:190: RuntimeWarning: invalid value encountered in double_scalars\n",
      "  ret = ret.dtype.type(ret / rcount)\n"
     ]
    },
    {
     "name": "stdout",
     "output_type": "stream",
     "text": [
      "IC50 lin_reg_feat_sel lin_reg_feat_sel\n",
      "IC50 lin_reg_feat_sel lin_reg_paccmann_genes\n",
      "IC50 paccmann paccmann_mse\n",
      "IC50 paccmann paccmann_mse_zeros\n"
     ]
    },
    {
     "name": "stderr",
     "output_type": "stream",
     "text": [
      "/Users/katja/miniconda3/lib/python3.9/site-packages/numpy/core/fromnumeric.py:3432: RuntimeWarning: Mean of empty slice.\n",
      "  return _methods._mean(a, axis=axis, dtype=dtype,\n",
      "/Users/katja/miniconda3/lib/python3.9/site-packages/numpy/core/_methods.py:190: RuntimeWarning: invalid value encountered in double_scalars\n",
      "  ret = ret.dtype.type(ret / rcount)\n"
     ]
    },
    {
     "name": "stdout",
     "output_type": "stream",
     "text": [
      "IC50 baseline_nn nn_baseline_mse_zeros\n"
     ]
    },
    {
     "name": "stderr",
     "output_type": "stream",
     "text": [
      "/Users/katja/miniconda3/lib/python3.9/site-packages/numpy/core/fromnumeric.py:3432: RuntimeWarning: Mean of empty slice.\n",
      "  return _methods._mean(a, axis=axis, dtype=dtype,\n",
      "/Users/katja/miniconda3/lib/python3.9/site-packages/numpy/core/_methods.py:190: RuntimeWarning: invalid value encountered in double_scalars\n",
      "  ret = ret.dtype.type(ret / rcount)\n"
     ]
    },
    {
     "name": "stdout",
     "output_type": "stream",
     "text": [
      "IC50 baseline_nn nn_baseline_mse\n",
      "IC50 deepCDR deepCDR\n",
      "IC50 deepCDR deepCDR_zeros\n"
     ]
    },
    {
     "name": "stderr",
     "output_type": "stream",
     "text": [
      "/Users/katja/miniconda3/lib/python3.9/site-packages/numpy/core/fromnumeric.py:3432: RuntimeWarning: Mean of empty slice.\n",
      "  return _methods._mean(a, axis=axis, dtype=dtype,\n",
      "/Users/katja/miniconda3/lib/python3.9/site-packages/numpy/core/_methods.py:190: RuntimeWarning: invalid value encountered in double_scalars\n",
      "  ret = ret.dtype.type(ret / rcount)\n"
     ]
    },
    {
     "name": "stdout",
     "output_type": "stream",
     "text": [
      "IC50 knn knn_paccmann\n",
      "IC50 knn knn_zeros\n"
     ]
    },
    {
     "name": "stderr",
     "output_type": "stream",
     "text": [
      "/Users/katja/miniconda3/lib/python3.9/site-packages/numpy/core/fromnumeric.py:3432: RuntimeWarning: Mean of empty slice.\n",
      "  return _methods._mean(a, axis=axis, dtype=dtype,\n",
      "/Users/katja/miniconda3/lib/python3.9/site-packages/numpy/core/_methods.py:190: RuntimeWarning: invalid value encountered in double_scalars\n",
      "  ret = ret.dtype.type(ret / rcount)\n"
     ]
    },
    {
     "name": "stdout",
     "output_type": "stream",
     "text": [
      "IC50 mean_baseline mean_baseline\n"
     ]
    },
    {
     "name": "stderr",
     "output_type": "stream",
     "text": [
      "/Users/katja/miniconda3/lib/python3.9/site-packages/numpy/core/fromnumeric.py:3432: RuntimeWarning: Mean of empty slice.\n",
      "  return _methods._mean(a, axis=axis, dtype=dtype,\n",
      "/Users/katja/miniconda3/lib/python3.9/site-packages/numpy/core/_methods.py:190: RuntimeWarning: invalid value encountered in double_scalars\n",
      "  ret = ret.dtype.type(ret / rcount)\n"
     ]
    },
    {
     "name": "stdout",
     "output_type": "stream",
     "text": [
      "IC50 lin_reg_feat_sel lin_reg_feat_sel\n",
      "IC50 lin_reg_feat_sel lin_reg_paccmann_genes\n",
      "IC50 paccmann paccmann_mse\n",
      "IC50 paccmann paccmann_mse_zeros\n"
     ]
    },
    {
     "name": "stderr",
     "output_type": "stream",
     "text": [
      "/Users/katja/miniconda3/lib/python3.9/site-packages/numpy/core/fromnumeric.py:3432: RuntimeWarning: Mean of empty slice.\n",
      "  return _methods._mean(a, axis=axis, dtype=dtype,\n",
      "/Users/katja/miniconda3/lib/python3.9/site-packages/numpy/core/_methods.py:190: RuntimeWarning: invalid value encountered in double_scalars\n",
      "  ret = ret.dtype.type(ret / rcount)\n"
     ]
    },
    {
     "name": "stdout",
     "output_type": "stream",
     "text": [
      "IC50 baseline_nn nn_baseline_mse_zeros\n"
     ]
    },
    {
     "name": "stderr",
     "output_type": "stream",
     "text": [
      "/Users/katja/miniconda3/lib/python3.9/site-packages/numpy/core/fromnumeric.py:3432: RuntimeWarning: Mean of empty slice.\n",
      "  return _methods._mean(a, axis=axis, dtype=dtype,\n",
      "/Users/katja/miniconda3/lib/python3.9/site-packages/numpy/core/_methods.py:190: RuntimeWarning: invalid value encountered in double_scalars\n",
      "  ret = ret.dtype.type(ret / rcount)\n"
     ]
    },
    {
     "name": "stdout",
     "output_type": "stream",
     "text": [
      "IC50 baseline_nn nn_baseline_mse\n",
      "IC50 deepCDR deepCDR\n",
      "IC50 deepCDR deepCDR_zeros\n"
     ]
    },
    {
     "name": "stderr",
     "output_type": "stream",
     "text": [
      "/Users/katja/miniconda3/lib/python3.9/site-packages/numpy/core/fromnumeric.py:3432: RuntimeWarning: Mean of empty slice.\n",
      "  return _methods._mean(a, axis=axis, dtype=dtype,\n",
      "/Users/katja/miniconda3/lib/python3.9/site-packages/numpy/core/_methods.py:190: RuntimeWarning: invalid value encountered in double_scalars\n",
      "  ret = ret.dtype.type(ret / rcount)\n"
     ]
    },
    {
     "name": "stdout",
     "output_type": "stream",
     "text": [
      "IC50 knn knn_paccmann\n",
      "IC50 knn knn_zeros\n"
     ]
    },
    {
     "name": "stderr",
     "output_type": "stream",
     "text": [
      "/Users/katja/miniconda3/lib/python3.9/site-packages/numpy/core/fromnumeric.py:3432: RuntimeWarning: Mean of empty slice.\n",
      "  return _methods._mean(a, axis=axis, dtype=dtype,\n",
      "/Users/katja/miniconda3/lib/python3.9/site-packages/numpy/core/_methods.py:190: RuntimeWarning: invalid value encountered in double_scalars\n",
      "  ret = ret.dtype.type(ret / rcount)\n"
     ]
    },
    {
     "name": "stdout",
     "output_type": "stream",
     "text": [
      "IC50 mean_baseline mean_baseline\n"
     ]
    },
    {
     "name": "stderr",
     "output_type": "stream",
     "text": [
      "/Users/katja/miniconda3/lib/python3.9/site-packages/numpy/core/fromnumeric.py:3432: RuntimeWarning: Mean of empty slice.\n",
      "  return _methods._mean(a, axis=axis, dtype=dtype,\n",
      "/Users/katja/miniconda3/lib/python3.9/site-packages/numpy/core/_methods.py:190: RuntimeWarning: invalid value encountered in double_scalars\n",
      "  ret = ret.dtype.type(ret / rcount)\n"
     ]
    },
    {
     "name": "stdout",
     "output_type": "stream",
     "text": [
      "IC50 lin_reg_feat_sel lin_reg_feat_sel\n",
      "IC50 lin_reg_feat_sel lin_reg_paccmann_genes\n",
      "IC50 paccmann paccmann_mse\n",
      "IC50 paccmann paccmann_mse_zeros\n"
     ]
    },
    {
     "name": "stderr",
     "output_type": "stream",
     "text": [
      "/Users/katja/miniconda3/lib/python3.9/site-packages/numpy/core/fromnumeric.py:3432: RuntimeWarning: Mean of empty slice.\n",
      "  return _methods._mean(a, axis=axis, dtype=dtype,\n",
      "/Users/katja/miniconda3/lib/python3.9/site-packages/numpy/core/_methods.py:190: RuntimeWarning: invalid value encountered in double_scalars\n",
      "  ret = ret.dtype.type(ret / rcount)\n"
     ]
    },
    {
     "name": "stdout",
     "output_type": "stream",
     "text": [
      "IC50 baseline_nn nn_baseline_mse_zeros\n"
     ]
    },
    {
     "name": "stderr",
     "output_type": "stream",
     "text": [
      "/Users/katja/miniconda3/lib/python3.9/site-packages/numpy/core/fromnumeric.py:3432: RuntimeWarning: Mean of empty slice.\n",
      "  return _methods._mean(a, axis=axis, dtype=dtype,\n",
      "/Users/katja/miniconda3/lib/python3.9/site-packages/numpy/core/_methods.py:190: RuntimeWarning: invalid value encountered in double_scalars\n",
      "  ret = ret.dtype.type(ret / rcount)\n"
     ]
    },
    {
     "name": "stdout",
     "output_type": "stream",
     "text": [
      "IC50 baseline_nn nn_baseline_mse\n",
      "IC50 deepCDR deepCDR\n",
      "IC50 deepCDR deepCDR_zeros\n"
     ]
    },
    {
     "name": "stderr",
     "output_type": "stream",
     "text": [
      "/Users/katja/miniconda3/lib/python3.9/site-packages/numpy/core/fromnumeric.py:3432: RuntimeWarning: Mean of empty slice.\n",
      "  return _methods._mean(a, axis=axis, dtype=dtype,\n",
      "/Users/katja/miniconda3/lib/python3.9/site-packages/numpy/core/_methods.py:190: RuntimeWarning: invalid value encountered in double_scalars\n",
      "  ret = ret.dtype.type(ret / rcount)\n"
     ]
    },
    {
     "name": "stdout",
     "output_type": "stream",
     "text": [
      "IC50 knn knn_paccmann\n",
      "IC50 knn knn_zeros\n"
     ]
    },
    {
     "name": "stderr",
     "output_type": "stream",
     "text": [
      "/Users/katja/miniconda3/lib/python3.9/site-packages/numpy/core/fromnumeric.py:3432: RuntimeWarning: Mean of empty slice.\n",
      "  return _methods._mean(a, axis=axis, dtype=dtype,\n",
      "/Users/katja/miniconda3/lib/python3.9/site-packages/numpy/core/_methods.py:190: RuntimeWarning: invalid value encountered in double_scalars\n",
      "  ret = ret.dtype.type(ret / rcount)\n"
     ]
    },
    {
     "name": "stdout",
     "output_type": "stream",
     "text": [
      "IC50 mean_baseline mean_baseline\n"
     ]
    },
    {
     "name": "stderr",
     "output_type": "stream",
     "text": [
      "/Users/katja/miniconda3/lib/python3.9/site-packages/numpy/core/fromnumeric.py:3432: RuntimeWarning: Mean of empty slice.\n",
      "  return _methods._mean(a, axis=axis, dtype=dtype,\n",
      "/Users/katja/miniconda3/lib/python3.9/site-packages/numpy/core/_methods.py:190: RuntimeWarning: invalid value encountered in double_scalars\n",
      "  ret = ret.dtype.type(ret / rcount)\n"
     ]
    },
    {
     "name": "stdout",
     "output_type": "stream",
     "text": [
      "IC50 lin_reg_feat_sel lin_reg_feat_sel\n",
      "IC50 lin_reg_feat_sel lin_reg_paccmann_genes\n",
      "IC50 paccmann paccmann_mse\n",
      "IC50 paccmann paccmann_mse_zeros\n"
     ]
    },
    {
     "name": "stderr",
     "output_type": "stream",
     "text": [
      "/Users/katja/miniconda3/lib/python3.9/site-packages/numpy/core/fromnumeric.py:3432: RuntimeWarning: Mean of empty slice.\n",
      "  return _methods._mean(a, axis=axis, dtype=dtype,\n",
      "/Users/katja/miniconda3/lib/python3.9/site-packages/numpy/core/_methods.py:190: RuntimeWarning: invalid value encountered in double_scalars\n",
      "  ret = ret.dtype.type(ret / rcount)\n"
     ]
    },
    {
     "name": "stdout",
     "output_type": "stream",
     "text": [
      "IC50 baseline_nn nn_baseline_mse_zeros\n"
     ]
    },
    {
     "name": "stderr",
     "output_type": "stream",
     "text": [
      "/Users/katja/miniconda3/lib/python3.9/site-packages/numpy/core/fromnumeric.py:3432: RuntimeWarning: Mean of empty slice.\n",
      "  return _methods._mean(a, axis=axis, dtype=dtype,\n",
      "/Users/katja/miniconda3/lib/python3.9/site-packages/numpy/core/_methods.py:190: RuntimeWarning: invalid value encountered in double_scalars\n",
      "  ret = ret.dtype.type(ret / rcount)\n"
     ]
    },
    {
     "name": "stdout",
     "output_type": "stream",
     "text": [
      "IC50 baseline_nn nn_baseline_mse\n"
     ]
    },
    {
     "data": {
      "application/vnd.jupyter.widget-view+json": {
       "model_id": "",
       "version_major": 2,
       "version_minor": 0
      },
      "text/plain": [
       "  0%|          | 0/5 [00:00<?, ?it/s]"
      ]
     },
     "metadata": {},
     "output_type": "display_data"
    },
    {
     "name": "stdout",
     "output_type": "stream",
     "text": [
      "IC50_zscore deepCDR deepCDR_zscore\n",
      "IC50_zscore deepCDR deepCDR_zscore_zeros\n"
     ]
    },
    {
     "name": "stderr",
     "output_type": "stream",
     "text": [
      "/Users/katja/miniconda3/lib/python3.9/site-packages/numpy/core/fromnumeric.py:3432: RuntimeWarning: Mean of empty slice.\n",
      "  return _methods._mean(a, axis=axis, dtype=dtype,\n",
      "/Users/katja/miniconda3/lib/python3.9/site-packages/numpy/core/_methods.py:190: RuntimeWarning: invalid value encountered in double_scalars\n",
      "  ret = ret.dtype.type(ret / rcount)\n"
     ]
    },
    {
     "name": "stdout",
     "output_type": "stream",
     "text": [
      "IC50_zscore knn knn_paccmann\n",
      "IC50_zscore knn knn_zeros\n"
     ]
    },
    {
     "name": "stderr",
     "output_type": "stream",
     "text": [
      "/Users/katja/miniconda3/lib/python3.9/site-packages/numpy/core/fromnumeric.py:3432: RuntimeWarning: Mean of empty slice.\n",
      "  return _methods._mean(a, axis=axis, dtype=dtype,\n",
      "/Users/katja/miniconda3/lib/python3.9/site-packages/numpy/core/_methods.py:190: RuntimeWarning: invalid value encountered in double_scalars\n",
      "  ret = ret.dtype.type(ret / rcount)\n"
     ]
    },
    {
     "name": "stdout",
     "output_type": "stream",
     "text": [
      "IC50_zscore mean_baseline mean_baseline\n"
     ]
    },
    {
     "name": "stderr",
     "output_type": "stream",
     "text": [
      "/Users/katja/miniconda3/lib/python3.9/site-packages/numpy/core/fromnumeric.py:3432: RuntimeWarning: Mean of empty slice.\n",
      "  return _methods._mean(a, axis=axis, dtype=dtype,\n",
      "/Users/katja/miniconda3/lib/python3.9/site-packages/numpy/core/_methods.py:190: RuntimeWarning: invalid value encountered in double_scalars\n",
      "  ret = ret.dtype.type(ret / rcount)\n"
     ]
    },
    {
     "name": "stdout",
     "output_type": "stream",
     "text": [
      "IC50_zscore lin_reg_feat_sel lin_reg_feat_sel\n",
      "IC50_zscore lin_reg_feat_sel lin_reg_paccmann_genes\n",
      "IC50_zscore paccmann paccmann_mse_zscore_zeros\n"
     ]
    },
    {
     "name": "stderr",
     "output_type": "stream",
     "text": [
      "/Users/katja/miniconda3/lib/python3.9/site-packages/numpy/core/fromnumeric.py:3432: RuntimeWarning: Mean of empty slice.\n",
      "  return _methods._mean(a, axis=axis, dtype=dtype,\n",
      "/Users/katja/miniconda3/lib/python3.9/site-packages/numpy/core/_methods.py:190: RuntimeWarning: invalid value encountered in double_scalars\n",
      "  ret = ret.dtype.type(ret / rcount)\n"
     ]
    },
    {
     "name": "stdout",
     "output_type": "stream",
     "text": [
      "IC50_zscore paccmann paccmann_mse_zscore\n",
      "IC50_zscore paccmann_ndcg paccmann_approx_ndcg_zscore_zeros\n"
     ]
    },
    {
     "name": "stderr",
     "output_type": "stream",
     "text": [
      "/Users/katja/miniconda3/lib/python3.9/site-packages/numpy/core/fromnumeric.py:3432: RuntimeWarning: Mean of empty slice.\n",
      "  return _methods._mean(a, axis=axis, dtype=dtype,\n",
      "/Users/katja/miniconda3/lib/python3.9/site-packages/numpy/core/_methods.py:190: RuntimeWarning: invalid value encountered in double_scalars\n",
      "  ret = ret.dtype.type(ret / rcount)\n"
     ]
    },
    {
     "name": "stdout",
     "output_type": "stream",
     "text": [
      "IC50_zscore paccmann_ndcg paccmann_approx_ndcg_zscore\n",
      "IC50_zscore baseline_nn nn_baseline_mse_zscore\n",
      "IC50_zscore baseline_nn nn_baseline_mse_zscore_zeros\n"
     ]
    },
    {
     "name": "stderr",
     "output_type": "stream",
     "text": [
      "/Users/katja/miniconda3/lib/python3.9/site-packages/numpy/core/fromnumeric.py:3432: RuntimeWarning: Mean of empty slice.\n",
      "  return _methods._mean(a, axis=axis, dtype=dtype,\n",
      "/Users/katja/miniconda3/lib/python3.9/site-packages/numpy/core/_methods.py:190: RuntimeWarning: invalid value encountered in double_scalars\n",
      "  ret = ret.dtype.type(ret / rcount)\n"
     ]
    },
    {
     "name": "stdout",
     "output_type": "stream",
     "text": [
      "IC50_zscore deepCDR deepCDR_zscore\n",
      "IC50_zscore deepCDR deepCDR_zscore_zeros\n"
     ]
    },
    {
     "name": "stderr",
     "output_type": "stream",
     "text": [
      "/Users/katja/miniconda3/lib/python3.9/site-packages/numpy/core/fromnumeric.py:3432: RuntimeWarning: Mean of empty slice.\n",
      "  return _methods._mean(a, axis=axis, dtype=dtype,\n",
      "/Users/katja/miniconda3/lib/python3.9/site-packages/numpy/core/_methods.py:190: RuntimeWarning: invalid value encountered in double_scalars\n",
      "  ret = ret.dtype.type(ret / rcount)\n",
      "/Users/katja/miniconda3/lib/python3.9/site-packages/numpy/core/fromnumeric.py:3432: RuntimeWarning: Mean of empty slice.\n",
      "  return _methods._mean(a, axis=axis, dtype=dtype,\n",
      "/Users/katja/miniconda3/lib/python3.9/site-packages/numpy/core/_methods.py:190: RuntimeWarning: invalid value encountered in double_scalars\n",
      "  ret = ret.dtype.type(ret / rcount)\n"
     ]
    },
    {
     "name": "stdout",
     "output_type": "stream",
     "text": [
      "IC50_zscore knn knn_paccmann\n",
      "IC50_zscore knn knn_zeros\n"
     ]
    },
    {
     "name": "stderr",
     "output_type": "stream",
     "text": [
      "/Users/katja/miniconda3/lib/python3.9/site-packages/numpy/core/fromnumeric.py:3432: RuntimeWarning: Mean of empty slice.\n",
      "  return _methods._mean(a, axis=axis, dtype=dtype,\n",
      "/Users/katja/miniconda3/lib/python3.9/site-packages/numpy/core/_methods.py:190: RuntimeWarning: invalid value encountered in double_scalars\n",
      "  ret = ret.dtype.type(ret / rcount)\n"
     ]
    },
    {
     "name": "stdout",
     "output_type": "stream",
     "text": [
      "IC50_zscore mean_baseline mean_baseline\n"
     ]
    },
    {
     "name": "stderr",
     "output_type": "stream",
     "text": [
      "/Users/katja/miniconda3/lib/python3.9/site-packages/numpy/core/fromnumeric.py:3432: RuntimeWarning: Mean of empty slice.\n",
      "  return _methods._mean(a, axis=axis, dtype=dtype,\n",
      "/Users/katja/miniconda3/lib/python3.9/site-packages/numpy/core/_methods.py:190: RuntimeWarning: invalid value encountered in double_scalars\n",
      "  ret = ret.dtype.type(ret / rcount)\n"
     ]
    },
    {
     "name": "stdout",
     "output_type": "stream",
     "text": [
      "IC50_zscore lin_reg_feat_sel lin_reg_feat_sel\n",
      "IC50_zscore lin_reg_feat_sel lin_reg_paccmann_genes\n",
      "IC50_zscore paccmann paccmann_mse_zscore_zeros\n"
     ]
    },
    {
     "name": "stderr",
     "output_type": "stream",
     "text": [
      "/Users/katja/miniconda3/lib/python3.9/site-packages/numpy/core/fromnumeric.py:3432: RuntimeWarning: Mean of empty slice.\n",
      "  return _methods._mean(a, axis=axis, dtype=dtype,\n",
      "/Users/katja/miniconda3/lib/python3.9/site-packages/numpy/core/_methods.py:190: RuntimeWarning: invalid value encountered in double_scalars\n",
      "  ret = ret.dtype.type(ret / rcount)\n"
     ]
    },
    {
     "name": "stdout",
     "output_type": "stream",
     "text": [
      "IC50_zscore paccmann paccmann_mse_zscore\n",
      "IC50_zscore paccmann_ndcg paccmann_approx_ndcg_zscore_zeros\n"
     ]
    },
    {
     "name": "stderr",
     "output_type": "stream",
     "text": [
      "/Users/katja/miniconda3/lib/python3.9/site-packages/numpy/core/fromnumeric.py:3432: RuntimeWarning: Mean of empty slice.\n",
      "  return _methods._mean(a, axis=axis, dtype=dtype,\n",
      "/Users/katja/miniconda3/lib/python3.9/site-packages/numpy/core/_methods.py:190: RuntimeWarning: invalid value encountered in double_scalars\n",
      "  ret = ret.dtype.type(ret / rcount)\n"
     ]
    },
    {
     "name": "stdout",
     "output_type": "stream",
     "text": [
      "IC50_zscore paccmann_ndcg paccmann_approx_ndcg_zscore\n",
      "IC50_zscore baseline_nn nn_baseline_mse_zscore\n",
      "IC50_zscore baseline_nn nn_baseline_mse_zscore_zeros\n"
     ]
    },
    {
     "name": "stderr",
     "output_type": "stream",
     "text": [
      "/Users/katja/miniconda3/lib/python3.9/site-packages/numpy/core/fromnumeric.py:3432: RuntimeWarning: Mean of empty slice.\n",
      "  return _methods._mean(a, axis=axis, dtype=dtype,\n",
      "/Users/katja/miniconda3/lib/python3.9/site-packages/numpy/core/_methods.py:190: RuntimeWarning: invalid value encountered in double_scalars\n",
      "  ret = ret.dtype.type(ret / rcount)\n"
     ]
    },
    {
     "name": "stdout",
     "output_type": "stream",
     "text": [
      "IC50_zscore deepCDR deepCDR_zscore\n",
      "IC50_zscore deepCDR deepCDR_zscore_zeros\n"
     ]
    },
    {
     "name": "stderr",
     "output_type": "stream",
     "text": [
      "/Users/katja/miniconda3/lib/python3.9/site-packages/numpy/core/fromnumeric.py:3432: RuntimeWarning: Mean of empty slice.\n",
      "  return _methods._mean(a, axis=axis, dtype=dtype,\n",
      "/Users/katja/miniconda3/lib/python3.9/site-packages/numpy/core/_methods.py:190: RuntimeWarning: invalid value encountered in double_scalars\n",
      "  ret = ret.dtype.type(ret / rcount)\n",
      "/Users/katja/miniconda3/lib/python3.9/site-packages/numpy/core/fromnumeric.py:3432: RuntimeWarning: Mean of empty slice.\n",
      "  return _methods._mean(a, axis=axis, dtype=dtype,\n",
      "/Users/katja/miniconda3/lib/python3.9/site-packages/numpy/core/_methods.py:190: RuntimeWarning: invalid value encountered in double_scalars\n",
      "  ret = ret.dtype.type(ret / rcount)\n"
     ]
    },
    {
     "name": "stdout",
     "output_type": "stream",
     "text": [
      "IC50_zscore knn knn_paccmann\n",
      "IC50_zscore knn knn_zeros\n"
     ]
    },
    {
     "name": "stderr",
     "output_type": "stream",
     "text": [
      "/Users/katja/miniconda3/lib/python3.9/site-packages/numpy/core/fromnumeric.py:3432: RuntimeWarning: Mean of empty slice.\n",
      "  return _methods._mean(a, axis=axis, dtype=dtype,\n",
      "/Users/katja/miniconda3/lib/python3.9/site-packages/numpy/core/_methods.py:190: RuntimeWarning: invalid value encountered in double_scalars\n",
      "  ret = ret.dtype.type(ret / rcount)\n"
     ]
    },
    {
     "name": "stdout",
     "output_type": "stream",
     "text": [
      "IC50_zscore mean_baseline mean_baseline\n"
     ]
    },
    {
     "name": "stderr",
     "output_type": "stream",
     "text": [
      "/Users/katja/miniconda3/lib/python3.9/site-packages/numpy/core/fromnumeric.py:3432: RuntimeWarning: Mean of empty slice.\n",
      "  return _methods._mean(a, axis=axis, dtype=dtype,\n",
      "/Users/katja/miniconda3/lib/python3.9/site-packages/numpy/core/_methods.py:190: RuntimeWarning: invalid value encountered in double_scalars\n",
      "  ret = ret.dtype.type(ret / rcount)\n"
     ]
    },
    {
     "name": "stdout",
     "output_type": "stream",
     "text": [
      "IC50_zscore lin_reg_feat_sel lin_reg_feat_sel\n",
      "IC50_zscore lin_reg_feat_sel lin_reg_paccmann_genes\n",
      "IC50_zscore paccmann paccmann_mse_zscore_zeros\n"
     ]
    },
    {
     "name": "stderr",
     "output_type": "stream",
     "text": [
      "/Users/katja/miniconda3/lib/python3.9/site-packages/numpy/core/fromnumeric.py:3432: RuntimeWarning: Mean of empty slice.\n",
      "  return _methods._mean(a, axis=axis, dtype=dtype,\n",
      "/Users/katja/miniconda3/lib/python3.9/site-packages/numpy/core/_methods.py:190: RuntimeWarning: invalid value encountered in double_scalars\n",
      "  ret = ret.dtype.type(ret / rcount)\n"
     ]
    },
    {
     "name": "stdout",
     "output_type": "stream",
     "text": [
      "IC50_zscore paccmann paccmann_mse_zscore\n",
      "IC50_zscore paccmann_ndcg paccmann_approx_ndcg_zscore_zeros\n"
     ]
    },
    {
     "name": "stderr",
     "output_type": "stream",
     "text": [
      "/Users/katja/miniconda3/lib/python3.9/site-packages/numpy/core/fromnumeric.py:3432: RuntimeWarning: Mean of empty slice.\n",
      "  return _methods._mean(a, axis=axis, dtype=dtype,\n",
      "/Users/katja/miniconda3/lib/python3.9/site-packages/numpy/core/_methods.py:190: RuntimeWarning: invalid value encountered in double_scalars\n",
      "  ret = ret.dtype.type(ret / rcount)\n"
     ]
    },
    {
     "name": "stdout",
     "output_type": "stream",
     "text": [
      "IC50_zscore paccmann_ndcg paccmann_approx_ndcg_zscore\n",
      "IC50_zscore baseline_nn nn_baseline_mse_zscore\n",
      "IC50_zscore baseline_nn nn_baseline_mse_zscore_zeros\n"
     ]
    },
    {
     "name": "stderr",
     "output_type": "stream",
     "text": [
      "/Users/katja/miniconda3/lib/python3.9/site-packages/numpy/core/fromnumeric.py:3432: RuntimeWarning: Mean of empty slice.\n",
      "  return _methods._mean(a, axis=axis, dtype=dtype,\n",
      "/Users/katja/miniconda3/lib/python3.9/site-packages/numpy/core/_methods.py:190: RuntimeWarning: invalid value encountered in double_scalars\n",
      "  ret = ret.dtype.type(ret / rcount)\n"
     ]
    },
    {
     "name": "stdout",
     "output_type": "stream",
     "text": [
      "IC50_zscore deepCDR deepCDR_zscore\n",
      "IC50_zscore deepCDR deepCDR_zscore_zeros\n"
     ]
    },
    {
     "name": "stderr",
     "output_type": "stream",
     "text": [
      "/Users/katja/miniconda3/lib/python3.9/site-packages/numpy/core/fromnumeric.py:3432: RuntimeWarning: Mean of empty slice.\n",
      "  return _methods._mean(a, axis=axis, dtype=dtype,\n",
      "/Users/katja/miniconda3/lib/python3.9/site-packages/numpy/core/_methods.py:190: RuntimeWarning: invalid value encountered in double_scalars\n",
      "  ret = ret.dtype.type(ret / rcount)\n",
      "/Users/katja/miniconda3/lib/python3.9/site-packages/numpy/core/fromnumeric.py:3432: RuntimeWarning: Mean of empty slice.\n",
      "  return _methods._mean(a, axis=axis, dtype=dtype,\n",
      "/Users/katja/miniconda3/lib/python3.9/site-packages/numpy/core/_methods.py:190: RuntimeWarning: invalid value encountered in double_scalars\n",
      "  ret = ret.dtype.type(ret / rcount)\n"
     ]
    },
    {
     "name": "stdout",
     "output_type": "stream",
     "text": [
      "IC50_zscore knn knn_paccmann\n",
      "IC50_zscore knn knn_zeros\n"
     ]
    },
    {
     "name": "stderr",
     "output_type": "stream",
     "text": [
      "/Users/katja/miniconda3/lib/python3.9/site-packages/numpy/core/fromnumeric.py:3432: RuntimeWarning: Mean of empty slice.\n",
      "  return _methods._mean(a, axis=axis, dtype=dtype,\n",
      "/Users/katja/miniconda3/lib/python3.9/site-packages/numpy/core/_methods.py:190: RuntimeWarning: invalid value encountered in double_scalars\n",
      "  ret = ret.dtype.type(ret / rcount)\n"
     ]
    },
    {
     "name": "stdout",
     "output_type": "stream",
     "text": [
      "IC50_zscore mean_baseline mean_baseline\n"
     ]
    },
    {
     "name": "stderr",
     "output_type": "stream",
     "text": [
      "/Users/katja/miniconda3/lib/python3.9/site-packages/numpy/core/fromnumeric.py:3432: RuntimeWarning: Mean of empty slice.\n",
      "  return _methods._mean(a, axis=axis, dtype=dtype,\n",
      "/Users/katja/miniconda3/lib/python3.9/site-packages/numpy/core/_methods.py:190: RuntimeWarning: invalid value encountered in double_scalars\n",
      "  ret = ret.dtype.type(ret / rcount)\n"
     ]
    },
    {
     "name": "stdout",
     "output_type": "stream",
     "text": [
      "IC50_zscore lin_reg_feat_sel lin_reg_feat_sel\n",
      "IC50_zscore lin_reg_feat_sel lin_reg_paccmann_genes\n",
      "IC50_zscore paccmann paccmann_mse_zscore_zeros\n"
     ]
    },
    {
     "name": "stderr",
     "output_type": "stream",
     "text": [
      "/Users/katja/miniconda3/lib/python3.9/site-packages/numpy/core/fromnumeric.py:3432: RuntimeWarning: Mean of empty slice.\n",
      "  return _methods._mean(a, axis=axis, dtype=dtype,\n",
      "/Users/katja/miniconda3/lib/python3.9/site-packages/numpy/core/_methods.py:190: RuntimeWarning: invalid value encountered in double_scalars\n",
      "  ret = ret.dtype.type(ret / rcount)\n"
     ]
    },
    {
     "name": "stdout",
     "output_type": "stream",
     "text": [
      "IC50_zscore paccmann paccmann_mse_zscore\n",
      "IC50_zscore paccmann_ndcg paccmann_approx_ndcg_zscore_zeros\n"
     ]
    },
    {
     "name": "stderr",
     "output_type": "stream",
     "text": [
      "/Users/katja/miniconda3/lib/python3.9/site-packages/numpy/core/fromnumeric.py:3432: RuntimeWarning: Mean of empty slice.\n",
      "  return _methods._mean(a, axis=axis, dtype=dtype,\n",
      "/Users/katja/miniconda3/lib/python3.9/site-packages/numpy/core/_methods.py:190: RuntimeWarning: invalid value encountered in double_scalars\n",
      "  ret = ret.dtype.type(ret / rcount)\n"
     ]
    },
    {
     "name": "stdout",
     "output_type": "stream",
     "text": [
      "IC50_zscore paccmann_ndcg paccmann_approx_ndcg_zscore\n",
      "IC50_zscore baseline_nn nn_baseline_mse_zscore\n",
      "IC50_zscore baseline_nn nn_baseline_mse_zscore_zeros\n"
     ]
    },
    {
     "name": "stderr",
     "output_type": "stream",
     "text": [
      "/Users/katja/miniconda3/lib/python3.9/site-packages/numpy/core/fromnumeric.py:3432: RuntimeWarning: Mean of empty slice.\n",
      "  return _methods._mean(a, axis=axis, dtype=dtype,\n",
      "/Users/katja/miniconda3/lib/python3.9/site-packages/numpy/core/_methods.py:190: RuntimeWarning: invalid value encountered in double_scalars\n",
      "  ret = ret.dtype.type(ret / rcount)\n"
     ]
    },
    {
     "name": "stdout",
     "output_type": "stream",
     "text": [
      "IC50_zscore deepCDR deepCDR_zscore\n",
      "IC50_zscore deepCDR deepCDR_zscore_zeros\n"
     ]
    },
    {
     "name": "stderr",
     "output_type": "stream",
     "text": [
      "/Users/katja/miniconda3/lib/python3.9/site-packages/numpy/core/fromnumeric.py:3432: RuntimeWarning: Mean of empty slice.\n",
      "  return _methods._mean(a, axis=axis, dtype=dtype,\n",
      "/Users/katja/miniconda3/lib/python3.9/site-packages/numpy/core/_methods.py:190: RuntimeWarning: invalid value encountered in double_scalars\n",
      "  ret = ret.dtype.type(ret / rcount)\n"
     ]
    },
    {
     "name": "stdout",
     "output_type": "stream",
     "text": [
      "IC50_zscore knn knn_paccmann\n",
      "IC50_zscore knn knn_zeros\n"
     ]
    },
    {
     "name": "stderr",
     "output_type": "stream",
     "text": [
      "/Users/katja/miniconda3/lib/python3.9/site-packages/numpy/core/fromnumeric.py:3432: RuntimeWarning: Mean of empty slice.\n",
      "  return _methods._mean(a, axis=axis, dtype=dtype,\n",
      "/Users/katja/miniconda3/lib/python3.9/site-packages/numpy/core/_methods.py:190: RuntimeWarning: invalid value encountered in double_scalars\n",
      "  ret = ret.dtype.type(ret / rcount)\n"
     ]
    },
    {
     "name": "stdout",
     "output_type": "stream",
     "text": [
      "IC50_zscore mean_baseline mean_baseline\n"
     ]
    },
    {
     "name": "stderr",
     "output_type": "stream",
     "text": [
      "/Users/katja/miniconda3/lib/python3.9/site-packages/numpy/core/fromnumeric.py:3432: RuntimeWarning: Mean of empty slice.\n",
      "  return _methods._mean(a, axis=axis, dtype=dtype,\n",
      "/Users/katja/miniconda3/lib/python3.9/site-packages/numpy/core/_methods.py:190: RuntimeWarning: invalid value encountered in double_scalars\n",
      "  ret = ret.dtype.type(ret / rcount)\n"
     ]
    },
    {
     "name": "stdout",
     "output_type": "stream",
     "text": [
      "IC50_zscore lin_reg_feat_sel lin_reg_feat_sel\n",
      "IC50_zscore lin_reg_feat_sel lin_reg_paccmann_genes\n",
      "IC50_zscore paccmann paccmann_mse_zscore_zeros\n"
     ]
    },
    {
     "name": "stderr",
     "output_type": "stream",
     "text": [
      "/Users/katja/miniconda3/lib/python3.9/site-packages/numpy/core/fromnumeric.py:3432: RuntimeWarning: Mean of empty slice.\n",
      "  return _methods._mean(a, axis=axis, dtype=dtype,\n",
      "/Users/katja/miniconda3/lib/python3.9/site-packages/numpy/core/_methods.py:190: RuntimeWarning: invalid value encountered in double_scalars\n",
      "  ret = ret.dtype.type(ret / rcount)\n"
     ]
    },
    {
     "name": "stdout",
     "output_type": "stream",
     "text": [
      "IC50_zscore paccmann paccmann_mse_zscore\n",
      "IC50_zscore paccmann_ndcg paccmann_approx_ndcg_zscore_zeros\n"
     ]
    },
    {
     "name": "stderr",
     "output_type": "stream",
     "text": [
      "/Users/katja/miniconda3/lib/python3.9/site-packages/numpy/core/fromnumeric.py:3432: RuntimeWarning: Mean of empty slice.\n",
      "  return _methods._mean(a, axis=axis, dtype=dtype,\n",
      "/Users/katja/miniconda3/lib/python3.9/site-packages/numpy/core/_methods.py:190: RuntimeWarning: invalid value encountered in double_scalars\n",
      "  ret = ret.dtype.type(ret / rcount)\n"
     ]
    },
    {
     "name": "stdout",
     "output_type": "stream",
     "text": [
      "IC50_zscore paccmann_ndcg paccmann_approx_ndcg_zscore\n",
      "IC50_zscore baseline_nn nn_baseline_mse_zscore\n",
      "IC50_zscore baseline_nn nn_baseline_mse_zscore_zeros\n"
     ]
    },
    {
     "name": "stderr",
     "output_type": "stream",
     "text": [
      "/Users/katja/miniconda3/lib/python3.9/site-packages/numpy/core/fromnumeric.py:3432: RuntimeWarning: Mean of empty slice.\n",
      "  return _methods._mean(a, axis=axis, dtype=dtype,\n",
      "/Users/katja/miniconda3/lib/python3.9/site-packages/numpy/core/_methods.py:190: RuntimeWarning: invalid value encountered in double_scalars\n",
      "  ret = ret.dtype.type(ret / rcount)\n"
     ]
    },
    {
     "data": {
      "application/vnd.jupyter.widget-view+json": {
       "model_id": "",
       "version_major": 2,
       "version_minor": 0
      },
      "text/plain": [
       "  0%|          | 0/5 [00:00<?, ?it/s]"
      ]
     },
     "metadata": {},
     "output_type": "display_data"
    },
    {
     "name": "stdout",
     "output_type": "stream",
     "text": [
      "IC50_max_conc paccmann_ndcg paccmann_approx_ndcg_zeros\n"
     ]
    },
    {
     "name": "stderr",
     "output_type": "stream",
     "text": [
      "/Users/katja/miniconda3/lib/python3.9/site-packages/numpy/core/fromnumeric.py:3432: RuntimeWarning: Mean of empty slice.\n",
      "  return _methods._mean(a, axis=axis, dtype=dtype,\n",
      "/Users/katja/miniconda3/lib/python3.9/site-packages/numpy/core/_methods.py:190: RuntimeWarning: invalid value encountered in double_scalars\n",
      "  ret = ret.dtype.type(ret / rcount)\n"
     ]
    },
    {
     "name": "stdout",
     "output_type": "stream",
     "text": [
      "IC50_max_conc paccmann_ndcg paccmann_approx_ndcg\n",
      "IC50_max_conc paccmann_ndcg paccmann_approx_ndcg_zeros\n"
     ]
    },
    {
     "name": "stderr",
     "output_type": "stream",
     "text": [
      "/Users/katja/miniconda3/lib/python3.9/site-packages/numpy/core/fromnumeric.py:3432: RuntimeWarning: Mean of empty slice.\n",
      "  return _methods._mean(a, axis=axis, dtype=dtype,\n",
      "/Users/katja/miniconda3/lib/python3.9/site-packages/numpy/core/_methods.py:190: RuntimeWarning: invalid value encountered in double_scalars\n",
      "  ret = ret.dtype.type(ret / rcount)\n"
     ]
    },
    {
     "name": "stdout",
     "output_type": "stream",
     "text": [
      "IC50_max_conc paccmann_ndcg paccmann_approx_ndcg\n",
      "IC50_max_conc paccmann_ndcg paccmann_approx_ndcg_zeros\n"
     ]
    },
    {
     "name": "stderr",
     "output_type": "stream",
     "text": [
      "/Users/katja/miniconda3/lib/python3.9/site-packages/numpy/core/fromnumeric.py:3432: RuntimeWarning: Mean of empty slice.\n",
      "  return _methods._mean(a, axis=axis, dtype=dtype,\n",
      "/Users/katja/miniconda3/lib/python3.9/site-packages/numpy/core/_methods.py:190: RuntimeWarning: invalid value encountered in double_scalars\n",
      "  ret = ret.dtype.type(ret / rcount)\n"
     ]
    },
    {
     "name": "stdout",
     "output_type": "stream",
     "text": [
      "IC50_max_conc paccmann_ndcg paccmann_approx_ndcg\n",
      "IC50_max_conc paccmann_ndcg paccmann_approx_ndcg_zeros\n"
     ]
    },
    {
     "name": "stderr",
     "output_type": "stream",
     "text": [
      "/Users/katja/miniconda3/lib/python3.9/site-packages/numpy/core/fromnumeric.py:3432: RuntimeWarning: Mean of empty slice.\n",
      "  return _methods._mean(a, axis=axis, dtype=dtype,\n",
      "/Users/katja/miniconda3/lib/python3.9/site-packages/numpy/core/_methods.py:190: RuntimeWarning: invalid value encountered in double_scalars\n",
      "  ret = ret.dtype.type(ret / rcount)\n"
     ]
    },
    {
     "name": "stdout",
     "output_type": "stream",
     "text": [
      "IC50_max_conc paccmann_ndcg paccmann_approx_ndcg\n",
      "IC50_max_conc paccmann_ndcg paccmann_approx_ndcg_zeros\n"
     ]
    },
    {
     "name": "stderr",
     "output_type": "stream",
     "text": [
      "/Users/katja/miniconda3/lib/python3.9/site-packages/numpy/core/fromnumeric.py:3432: RuntimeWarning: Mean of empty slice.\n",
      "  return _methods._mean(a, axis=axis, dtype=dtype,\n",
      "/Users/katja/miniconda3/lib/python3.9/site-packages/numpy/core/_methods.py:190: RuntimeWarning: invalid value encountered in double_scalars\n",
      "  ret = ret.dtype.type(ret / rcount)\n"
     ]
    },
    {
     "name": "stdout",
     "output_type": "stream",
     "text": [
      "IC50_max_conc paccmann_ndcg paccmann_approx_ndcg\n"
     ]
    }
   ],
   "source": [
    "res_dir = 'predictions/GDSC'\n",
    "split_dir = 'data/GDSC/splits'\n",
    "\n",
    "viab_conditions = ['IC50', 'IC50_zscore', 'IC50_max_conc']\n",
    "cv = 5\n",
    "ks = [1,3,5,10,15,30]\n",
    "\n",
    "ranking_eval = pd.DataFrame(columns = ['model', 'drug_response', 'genes', 'fold', 'k', \n",
    "                            'prec', 'ndcg'])\n",
    "mse_pearson_eval = pd.DataFrame(columns = ['model', 'drug_response', 'genes', 'fold', \n",
    "                            'mse', 'pearson', 'pval'])\n",
    "mse_pearson_eval_per_drug = pd.DataFrame(columns = ['model', 'drug_response', 'genes', 'fold', \n",
    "                            'mse', 'pearson', 'pval'])\n",
    "ranking_counter = 0\n",
    "mp_counter = 0\n",
    "\n",
    "for cond in notebook.tqdm(viab_conditions):\n",
    "    if cond == 'IC50_zscore':\n",
    "        cv_split_dir = os.path.join(split_dir, 'cv_splits_zscored')\n",
    "    else: \n",
    "        cv_split_dir = os.path.join(split_dir, 'cv_splits')\n",
    "    \n",
    "    if cond == 'IC50_max_conc': postfix = '_max_conc'\n",
    "    else: postfix = ''\n",
    "        \n",
    "    \n",
    "    for split_nr in notebook.tqdm(range(0, cv), leave = False):\n",
    "        #if cond != 'IC50': continue\n",
    "        test_df_path  = cv_split_dir + '/cv_' + str(cv) + '/test_cv_' + str(cv)  +\\\n",
    "                            '_fold_' + str(split_nr) + postfix + '.csv'\n",
    "        \n",
    "        test_df = pd.read_csv(test_df_path, index_col = 0)\n",
    "            \n",
    "        cond_path = os.path.join(res_dir, cond)\n",
    "        for model in os.listdir(cond_path):\n",
    "            if model.startswith('.'): continue\n",
    "                \n",
    "            #if model != 'paccmann': continue\n",
    "                 \n",
    "            model_path = os.path.join(cond_path, model)\n",
    "            for submodel in os.listdir(model_path):\n",
    "                #if submodel != 'paccmann_mse': continue\n",
    "                \n",
    "                if submodel.startswith('.'): continue\n",
    "                \n",
    "                submodel_path = os.path.join(model_path, submodel)\n",
    "                if submodel.endswith('zeros') or model == 'mean_baseline': \n",
    "                    rnaseq = 'no RNAseq'\n",
    "                elif submodel.endswith('feat_sel'):\n",
    "                    rnaseq = 'genes selected per drug'\n",
    "                elif submodel.startswith('deepCDR'):\n",
    "                    rnaseq = 'DeepCDR genes'\n",
    "                else: \n",
    "                    rnaseq = 'PaccMann genes'\n",
    "                    \n",
    "                print(cond, model, submodel)\n",
    "                prediction_df = None\n",
    "                corr_test_df = None\n",
    "                \n",
    "                if model.endswith('feat_sel') or model == 'mean_baseline':\n",
    "                    for pred_file in os.listdir(submodel_path):\n",
    "                        if pred_file.startswith('.'): continue\n",
    "                        prediction_path = os.path.join(submodel_path, pred_file)\n",
    "                        prediction_df = pd.read_csv(prediction_path, index_col = 0)\n",
    "                        \n",
    "                        shared_cell_lines = list(set(prediction_df.index)&set(test_df.index))\n",
    "                        corr_test_df = test_df.loc[shared_cell_lines]\n",
    "                        prediction_df = prediction_df.loc[shared_cell_lines]\n",
    "                        prediction_df = prediction_df.loc[corr_test_df.index][corr_test_df.columns]\n",
    "                elif model.startswith('deepCDR'):\n",
    "                    for pred_file in os.listdir(submodel_path):\n",
    "                        if not pred_file.endswith(str(split_nr)+'.csv'): continue\n",
    "                        prediction_path = os.path.join(submodel_path, pred_file)\n",
    "                        data_df = pd.read_csv(prediction_path, index_col = 0)\n",
    "                        data_df = data_df.sort_values('observation').drop_duplicates(['cell_line', 'drug']).sort_index()\n",
    "                        prediction_df = data_df.pivot(index = 'cell_line', columns = 'drug', values = 'prediction')\n",
    "                        corr_test_df = data_df.pivot(index = 'cell_line', columns = 'drug', values = 'observation')\n",
    "                else:\n",
    "                    for pred_file in os.listdir(submodel_path):\n",
    "                        if not pred_file.endswith(str(split_nr)+'.csv'): continue\n",
    "                        prediction_path = os.path.join(submodel_path, pred_file)\n",
    "                        prediction_df = pd.read_csv(prediction_path, index_col = 0).loc[test_df.index][test_df.columns]\n",
    "                    if model != 'knn': corr_test_df = (test_df.T.max() - test_df.T).T\n",
    "                    else: corr_test_df = test_df\n",
    "                                     \n",
    "                (mse, pearsonr, pval) = evaluate_mse_pearson(prediction_df, corr_test_df)\n",
    "                mse_pearson_eval.loc[mp_counter] = [model, cond, rnaseq,\n",
    "                                    split_nr, mse, pearsonr, pval]\n",
    "                (mse, pearsonr, pval) = evaluate_mse_pearson_per_drug(prediction_df, corr_test_df)\n",
    "                mse_pearson_eval_per_drug.loc[mp_counter] = [model, cond, rnaseq,\n",
    "                                    split_nr, mse, pearsonr, pval]\n",
    "                \n",
    "                mp_counter += 1\n",
    "                    \n",
    "                for k in ks:\n",
    "                    (prec, ndcg) = evaluate_ranking(prediction_df, corr_test_df, k = k)\n",
    "                        \n",
    "                    ranking_eval.loc[ranking_counter] = [model, cond, rnaseq,\n",
    "                                                        split_nr, k, np.mean(prec), np.mean(ndcg)]\n",
    "                    ranking_counter += 1\n",
    "\n",
    "\n",
    "            "
   ]
  },
  {
   "cell_type": "code",
   "execution_count": 36,
   "metadata": {},
   "outputs": [
    {
     "data": {
      "text/plain": [
       "80.88883562111532"
      ]
     },
     "execution_count": 36,
     "metadata": {},
     "output_type": "execute_result"
    }
   ],
   "source": [
    "from scipy import stats\n",
    "\n",
    "pearsons = []\n",
    "mses = []\n",
    "\n",
    "for i, pred in prediction_df.iterrows():\n",
    "    pred = pred.dropna()\n",
    "    \n",
    "    gs = test_df.loc[i]\n",
    "    gs = gs.loc[pred.index]\n",
    "    if len(pred) > 2:\n",
    "        pearson = stats.pearsonr(gs, pred)\n",
    "        pearsons.append(pearson[0])\n",
    "        \n",
    "    mse = mean_squared_error(gs, pred)\n",
    "    mses.append(mse)\n",
    "np.mean(mses)"
   ]
  },
  {
   "cell_type": "code",
   "execution_count": 101,
   "metadata": {},
   "outputs": [
    {
     "data": {
      "text/html": [
       "<div>\n",
       "<style scoped>\n",
       "    .dataframe tbody tr th:only-of-type {\n",
       "        vertical-align: middle;\n",
       "    }\n",
       "\n",
       "    .dataframe tbody tr th {\n",
       "        vertical-align: top;\n",
       "    }\n",
       "\n",
       "    .dataframe thead th {\n",
       "        text-align: right;\n",
       "    }\n",
       "</style>\n",
       "<table border=\"1\" class=\"dataframe\">\n",
       "  <thead>\n",
       "    <tr style=\"text-align: right;\">\n",
       "      <th></th>\n",
       "      <th>model</th>\n",
       "      <th>drug_response</th>\n",
       "      <th>genes</th>\n",
       "      <th>k</th>\n",
       "      <th>prec</th>\n",
       "      <th>prec_std</th>\n",
       "      <th>prec_stderror</th>\n",
       "      <th>ndcg</th>\n",
       "      <th>ndcg_std</th>\n",
       "      <th>ndcg_stderror</th>\n",
       "    </tr>\n",
       "  </thead>\n",
       "  <tbody>\n",
       "    <tr>\n",
       "      <th>0</th>\n",
       "      <td>baseline_nn</td>\n",
       "      <td>IC50</td>\n",
       "      <td>PaccMann genes</td>\n",
       "      <td>1</td>\n",
       "      <td>0.141988</td>\n",
       "      <td>0.053945</td>\n",
       "      <td>0.024125</td>\n",
       "      <td>0.845929</td>\n",
       "      <td>0.017610</td>\n",
       "      <td>0.007875</td>\n",
       "    </tr>\n",
       "    <tr>\n",
       "      <th>1</th>\n",
       "      <td>baseline_nn</td>\n",
       "      <td>IC50</td>\n",
       "      <td>PaccMann genes</td>\n",
       "      <td>3</td>\n",
       "      <td>0.241472</td>\n",
       "      <td>0.049608</td>\n",
       "      <td>0.022185</td>\n",
       "      <td>0.858778</td>\n",
       "      <td>0.012241</td>\n",
       "      <td>0.005474</td>\n",
       "    </tr>\n",
       "    <tr>\n",
       "      <th>2</th>\n",
       "      <td>baseline_nn</td>\n",
       "      <td>IC50</td>\n",
       "      <td>PaccMann genes</td>\n",
       "      <td>5</td>\n",
       "      <td>0.251745</td>\n",
       "      <td>0.029012</td>\n",
       "      <td>0.012975</td>\n",
       "      <td>0.866646</td>\n",
       "      <td>0.010991</td>\n",
       "      <td>0.004915</td>\n",
       "    </tr>\n",
       "    <tr>\n",
       "      <th>3</th>\n",
       "      <td>baseline_nn</td>\n",
       "      <td>IC50</td>\n",
       "      <td>PaccMann genes</td>\n",
       "      <td>10</td>\n",
       "      <td>0.292441</td>\n",
       "      <td>0.032004</td>\n",
       "      <td>0.014312</td>\n",
       "      <td>0.874744</td>\n",
       "      <td>0.012687</td>\n",
       "      <td>0.005674</td>\n",
       "    </tr>\n",
       "    <tr>\n",
       "      <th>4</th>\n",
       "      <td>baseline_nn</td>\n",
       "      <td>IC50</td>\n",
       "      <td>PaccMann genes</td>\n",
       "      <td>15</td>\n",
       "      <td>0.346722</td>\n",
       "      <td>0.043145</td>\n",
       "      <td>0.019295</td>\n",
       "      <td>0.880621</td>\n",
       "      <td>0.012699</td>\n",
       "      <td>0.005679</td>\n",
       "    </tr>\n",
       "    <tr>\n",
       "      <th>...</th>\n",
       "      <td>...</td>\n",
       "      <td>...</td>\n",
       "      <td>...</td>\n",
       "      <td>...</td>\n",
       "      <td>...</td>\n",
       "      <td>...</td>\n",
       "      <td>...</td>\n",
       "      <td>...</td>\n",
       "      <td>...</td>\n",
       "      <td>...</td>\n",
       "    </tr>\n",
       "    <tr>\n",
       "      <th>151</th>\n",
       "      <td>paccmann_ndcg</td>\n",
       "      <td>IC50_zscore</td>\n",
       "      <td>no RNAseq</td>\n",
       "      <td>3</td>\n",
       "      <td>0.004872</td>\n",
       "      <td>0.003368</td>\n",
       "      <td>0.001506</td>\n",
       "      <td>0.456112</td>\n",
       "      <td>0.016868</td>\n",
       "      <td>0.007544</td>\n",
       "    </tr>\n",
       "    <tr>\n",
       "      <th>152</th>\n",
       "      <td>paccmann_ndcg</td>\n",
       "      <td>IC50_zscore</td>\n",
       "      <td>no RNAseq</td>\n",
       "      <td>5</td>\n",
       "      <td>0.009180</td>\n",
       "      <td>0.004669</td>\n",
       "      <td>0.002088</td>\n",
       "      <td>0.472228</td>\n",
       "      <td>0.015962</td>\n",
       "      <td>0.007138</td>\n",
       "    </tr>\n",
       "    <tr>\n",
       "      <th>153</th>\n",
       "      <td>paccmann_ndcg</td>\n",
       "      <td>IC50_zscore</td>\n",
       "      <td>no RNAseq</td>\n",
       "      <td>10</td>\n",
       "      <td>0.021300</td>\n",
       "      <td>0.005577</td>\n",
       "      <td>0.002494</td>\n",
       "      <td>0.500701</td>\n",
       "      <td>0.012750</td>\n",
       "      <td>0.005702</td>\n",
       "    </tr>\n",
       "    <tr>\n",
       "      <th>154</th>\n",
       "      <td>paccmann_ndcg</td>\n",
       "      <td>IC50_zscore</td>\n",
       "      <td>no RNAseq</td>\n",
       "      <td>15</td>\n",
       "      <td>0.040436</td>\n",
       "      <td>0.008998</td>\n",
       "      <td>0.004024</td>\n",
       "      <td>0.521946</td>\n",
       "      <td>0.012830</td>\n",
       "      <td>0.005738</td>\n",
       "    </tr>\n",
       "    <tr>\n",
       "      <th>155</th>\n",
       "      <td>paccmann_ndcg</td>\n",
       "      <td>IC50_zscore</td>\n",
       "      <td>no RNAseq</td>\n",
       "      <td>30</td>\n",
       "      <td>0.109924</td>\n",
       "      <td>0.005971</td>\n",
       "      <td>0.002670</td>\n",
       "      <td>0.565300</td>\n",
       "      <td>0.011456</td>\n",
       "      <td>0.005123</td>\n",
       "    </tr>\n",
       "  </tbody>\n",
       "</table>\n",
       "<p>156 rows × 10 columns</p>\n",
       "</div>"
      ],
      "text/plain": [
       "             model drug_response           genes   k      prec  prec_std  \\\n",
       "0      baseline_nn          IC50  PaccMann genes   1  0.141988  0.053945   \n",
       "1      baseline_nn          IC50  PaccMann genes   3  0.241472  0.049608   \n",
       "2      baseline_nn          IC50  PaccMann genes   5  0.251745  0.029012   \n",
       "3      baseline_nn          IC50  PaccMann genes  10  0.292441  0.032004   \n",
       "4      baseline_nn          IC50  PaccMann genes  15  0.346722  0.043145   \n",
       "..             ...           ...             ...  ..       ...       ...   \n",
       "151  paccmann_ndcg   IC50_zscore       no RNAseq   3  0.004872  0.003368   \n",
       "152  paccmann_ndcg   IC50_zscore       no RNAseq   5  0.009180  0.004669   \n",
       "153  paccmann_ndcg   IC50_zscore       no RNAseq  10  0.021300  0.005577   \n",
       "154  paccmann_ndcg   IC50_zscore       no RNAseq  15  0.040436  0.008998   \n",
       "155  paccmann_ndcg   IC50_zscore       no RNAseq  30  0.109924  0.005971   \n",
       "\n",
       "     prec_stderror      ndcg  ndcg_std  ndcg_stderror  \n",
       "0         0.024125  0.845929  0.017610       0.007875  \n",
       "1         0.022185  0.858778  0.012241       0.005474  \n",
       "2         0.012975  0.866646  0.010991       0.004915  \n",
       "3         0.014312  0.874744  0.012687       0.005674  \n",
       "4         0.019295  0.880621  0.012699       0.005679  \n",
       "..             ...       ...       ...            ...  \n",
       "151       0.001506  0.456112  0.016868       0.007544  \n",
       "152       0.002088  0.472228  0.015962       0.007138  \n",
       "153       0.002494  0.500701  0.012750       0.005702  \n",
       "154       0.004024  0.521946  0.012830       0.005738  \n",
       "155       0.002670  0.565300  0.011456       0.005123  \n",
       "\n",
       "[156 rows x 10 columns]"
      ]
     },
     "execution_count": 101,
     "metadata": {},
     "output_type": "execute_result"
    }
   ],
   "source": [
    "counter = 0\n",
    "ranking_res = pd.DataFrame(columns = ['model', 'drug_response', 'genes', 'k', \n",
    "                                      'prec', 'prec_std', 'prec_stderror',\n",
    "                                      'ndcg', 'ndcg_std', 'ndcg_stderror'\n",
    "                                   ])\n",
    "\n",
    "for (model, drug_response, genes, k), rows in ranking_eval.groupby(['model', 'drug_response', 'genes', 'k']):\n",
    "    ranking_res.loc[counter] = [model, drug_response, genes, k,\n",
    "                              np.mean(rows.prec), np.std(rows.prec), np.std(rows.prec)/np.sqrt(len(rows.prec)),\n",
    "                              np.mean(rows.ndcg), np.std(rows.ndcg), np.std(rows.ndcg)/np.sqrt(len(rows.ndcg))\n",
    "                            ]\n",
    "    counter+=1\n",
    "ranking_res.to_csv('tables/results/GDSC/gdsc_ranking_results.csv')\n",
    "ranking_res"
   ]
  },
  {
   "cell_type": "code",
   "execution_count": 46,
   "metadata": {},
   "outputs": [
    {
     "data": {
      "text/html": [
       "<div>\n",
       "<style scoped>\n",
       "    .dataframe tbody tr th:only-of-type {\n",
       "        vertical-align: middle;\n",
       "    }\n",
       "\n",
       "    .dataframe tbody tr th {\n",
       "        vertical-align: top;\n",
       "    }\n",
       "\n",
       "    .dataframe thead th {\n",
       "        text-align: right;\n",
       "    }\n",
       "</style>\n",
       "<table border=\"1\" class=\"dataframe\">\n",
       "  <thead>\n",
       "    <tr style=\"text-align: right;\">\n",
       "      <th></th>\n",
       "      <th>model</th>\n",
       "      <th>drug_response</th>\n",
       "      <th>genes</th>\n",
       "      <th>mse</th>\n",
       "      <th>mse_std</th>\n",
       "      <th>mse_stderror</th>\n",
       "      <th>pearson</th>\n",
       "      <th>pearson_std</th>\n",
       "      <th>pearson_stderror</th>\n",
       "      <th>pval_mean</th>\n",
       "    </tr>\n",
       "  </thead>\n",
       "  <tbody>\n",
       "    <tr>\n",
       "      <th>0</th>\n",
       "      <td>baseline_nn</td>\n",
       "      <td>IC50</td>\n",
       "      <td>PaccMann genes</td>\n",
       "      <td>7.108623</td>\n",
       "      <td>0.384793</td>\n",
       "      <td>0.172085</td>\n",
       "      <td>0.661693</td>\n",
       "      <td>0.047055</td>\n",
       "      <td>0.021043</td>\n",
       "      <td>1.715582e-03</td>\n",
       "    </tr>\n",
       "    <tr>\n",
       "      <th>1</th>\n",
       "      <td>baseline_nn</td>\n",
       "      <td>IC50</td>\n",
       "      <td>no RNAseq</td>\n",
       "      <td>3.330384</td>\n",
       "      <td>0.123396</td>\n",
       "      <td>0.055184</td>\n",
       "      <td>0.876901</td>\n",
       "      <td>0.005779</td>\n",
       "      <td>0.002584</td>\n",
       "      <td>2.302276e-10</td>\n",
       "    </tr>\n",
       "    <tr>\n",
       "      <th>2</th>\n",
       "      <td>baseline_nn</td>\n",
       "      <td>IC50_zscore</td>\n",
       "      <td>PaccMann genes</td>\n",
       "      <td>1.333119</td>\n",
       "      <td>0.085293</td>\n",
       "      <td>0.038144</td>\n",
       "      <td>-0.001337</td>\n",
       "      <td>0.010816</td>\n",
       "      <td>0.004837</td>\n",
       "      <td>3.458118e-01</td>\n",
       "    </tr>\n",
       "    <tr>\n",
       "      <th>3</th>\n",
       "      <td>baseline_nn</td>\n",
       "      <td>IC50_zscore</td>\n",
       "      <td>no RNAseq</td>\n",
       "      <td>1.120624</td>\n",
       "      <td>0.044823</td>\n",
       "      <td>0.020045</td>\n",
       "      <td>0.002018</td>\n",
       "      <td>0.027822</td>\n",
       "      <td>0.012442</td>\n",
       "      <td>3.013171e-01</td>\n",
       "    </tr>\n",
       "    <tr>\n",
       "      <th>4</th>\n",
       "      <td>deepCDR</td>\n",
       "      <td>IC50</td>\n",
       "      <td>DeepCDR genes</td>\n",
       "      <td>2.042660</td>\n",
       "      <td>0.106105</td>\n",
       "      <td>0.047452</td>\n",
       "      <td>0.882040</td>\n",
       "      <td>0.004068</td>\n",
       "      <td>0.001819</td>\n",
       "      <td>4.635977e-10</td>\n",
       "    </tr>\n",
       "    <tr>\n",
       "      <th>5</th>\n",
       "      <td>deepCDR</td>\n",
       "      <td>IC50</td>\n",
       "      <td>no RNAseq</td>\n",
       "      <td>2.144892</td>\n",
       "      <td>0.127681</td>\n",
       "      <td>0.057101</td>\n",
       "      <td>0.879746</td>\n",
       "      <td>0.005238</td>\n",
       "      <td>0.002343</td>\n",
       "      <td>2.706106e-10</td>\n",
       "    </tr>\n",
       "    <tr>\n",
       "      <th>6</th>\n",
       "      <td>deepCDR</td>\n",
       "      <td>IC50_zscore</td>\n",
       "      <td>DeepCDR genes</td>\n",
       "      <td>0.946770</td>\n",
       "      <td>0.034696</td>\n",
       "      <td>0.015517</td>\n",
       "      <td>0.152422</td>\n",
       "      <td>0.042658</td>\n",
       "      <td>0.019077</td>\n",
       "      <td>1.978429e-01</td>\n",
       "    </tr>\n",
       "    <tr>\n",
       "      <th>7</th>\n",
       "      <td>deepCDR</td>\n",
       "      <td>IC50_zscore</td>\n",
       "      <td>no RNAseq</td>\n",
       "      <td>1.030035</td>\n",
       "      <td>0.042251</td>\n",
       "      <td>0.018895</td>\n",
       "      <td>-0.006571</td>\n",
       "      <td>0.002477</td>\n",
       "      <td>0.001108</td>\n",
       "      <td>5.421090e-01</td>\n",
       "    </tr>\n",
       "    <tr>\n",
       "      <th>8</th>\n",
       "      <td>knn</td>\n",
       "      <td>IC50</td>\n",
       "      <td>PaccMann genes</td>\n",
       "      <td>3.697025</td>\n",
       "      <td>0.042615</td>\n",
       "      <td>0.019058</td>\n",
       "      <td>0.789994</td>\n",
       "      <td>0.004603</td>\n",
       "      <td>0.002059</td>\n",
       "      <td>1.540798e-09</td>\n",
       "    </tr>\n",
       "    <tr>\n",
       "      <th>9</th>\n",
       "      <td>knn</td>\n",
       "      <td>IC50</td>\n",
       "      <td>no RNAseq</td>\n",
       "      <td>3.687375</td>\n",
       "      <td>0.209334</td>\n",
       "      <td>0.093617</td>\n",
       "      <td>0.778948</td>\n",
       "      <td>0.012946</td>\n",
       "      <td>0.005789</td>\n",
       "      <td>9.462289e-09</td>\n",
       "    </tr>\n",
       "    <tr>\n",
       "      <th>10</th>\n",
       "      <td>knn</td>\n",
       "      <td>IC50_zscore</td>\n",
       "      <td>PaccMann genes</td>\n",
       "      <td>1.984143</td>\n",
       "      <td>0.022647</td>\n",
       "      <td>0.010128</td>\n",
       "      <td>0.012632</td>\n",
       "      <td>0.012369</td>\n",
       "      <td>0.005532</td>\n",
       "      <td>2.771743e-01</td>\n",
       "    </tr>\n",
       "    <tr>\n",
       "      <th>11</th>\n",
       "      <td>knn</td>\n",
       "      <td>IC50_zscore</td>\n",
       "      <td>no RNAseq</td>\n",
       "      <td>1.927974</td>\n",
       "      <td>0.071832</td>\n",
       "      <td>0.032124</td>\n",
       "      <td>-0.001874</td>\n",
       "      <td>0.003294</td>\n",
       "      <td>0.001473</td>\n",
       "      <td>5.115752e-01</td>\n",
       "    </tr>\n",
       "    <tr>\n",
       "      <th>12</th>\n",
       "      <td>lin_reg_feat_sel</td>\n",
       "      <td>IC50</td>\n",
       "      <td>PaccMann genes</td>\n",
       "      <td>2.289939</td>\n",
       "      <td>0.056963</td>\n",
       "      <td>0.025475</td>\n",
       "      <td>0.855725</td>\n",
       "      <td>0.002888</td>\n",
       "      <td>0.001291</td>\n",
       "      <td>2.109383e-09</td>\n",
       "    </tr>\n",
       "    <tr>\n",
       "      <th>13</th>\n",
       "      <td>lin_reg_feat_sel</td>\n",
       "      <td>IC50</td>\n",
       "      <td>genes selected per drug</td>\n",
       "      <td>1.462895</td>\n",
       "      <td>0.028728</td>\n",
       "      <td>0.012848</td>\n",
       "      <td>0.905607</td>\n",
       "      <td>0.001206</td>\n",
       "      <td>0.000539</td>\n",
       "      <td>3.821619e-12</td>\n",
       "    </tr>\n",
       "    <tr>\n",
       "      <th>14</th>\n",
       "      <td>lin_reg_feat_sel</td>\n",
       "      <td>IC50_zscore</td>\n",
       "      <td>PaccMann genes</td>\n",
       "      <td>1.261970</td>\n",
       "      <td>0.032109</td>\n",
       "      <td>0.014360</td>\n",
       "      <td>0.220127</td>\n",
       "      <td>0.010473</td>\n",
       "      <td>0.004684</td>\n",
       "      <td>1.054026e-01</td>\n",
       "    </tr>\n",
       "    <tr>\n",
       "      <th>15</th>\n",
       "      <td>lin_reg_feat_sel</td>\n",
       "      <td>IC50_zscore</td>\n",
       "      <td>genes selected per drug</td>\n",
       "      <td>0.803622</td>\n",
       "      <td>0.013984</td>\n",
       "      <td>0.006254</td>\n",
       "      <td>0.362940</td>\n",
       "      <td>0.010518</td>\n",
       "      <td>0.004704</td>\n",
       "      <td>1.299675e-02</td>\n",
       "    </tr>\n",
       "    <tr>\n",
       "      <th>16</th>\n",
       "      <td>mean_baseline</td>\n",
       "      <td>IC50</td>\n",
       "      <td>no RNAseq</td>\n",
       "      <td>1.885576</td>\n",
       "      <td>0.036097</td>\n",
       "      <td>0.016143</td>\n",
       "      <td>0.887995</td>\n",
       "      <td>0.001508</td>\n",
       "      <td>0.000674</td>\n",
       "      <td>1.392109e-11</td>\n",
       "    </tr>\n",
       "    <tr>\n",
       "      <th>17</th>\n",
       "      <td>mean_baseline</td>\n",
       "      <td>IC50_zscore</td>\n",
       "      <td>no RNAseq</td>\n",
       "      <td>1.011097</td>\n",
       "      <td>0.023602</td>\n",
       "      <td>0.010555</td>\n",
       "      <td>-0.078642</td>\n",
       "      <td>0.010345</td>\n",
       "      <td>0.004626</td>\n",
       "      <td>1.846623e-01</td>\n",
       "    </tr>\n",
       "    <tr>\n",
       "      <th>18</th>\n",
       "      <td>paccmann</td>\n",
       "      <td>IC50</td>\n",
       "      <td>PaccMann genes</td>\n",
       "      <td>3.793136</td>\n",
       "      <td>0.175898</td>\n",
       "      <td>0.078664</td>\n",
       "      <td>0.811235</td>\n",
       "      <td>0.013784</td>\n",
       "      <td>0.006164</td>\n",
       "      <td>2.054305e-10</td>\n",
       "    </tr>\n",
       "    <tr>\n",
       "      <th>19</th>\n",
       "      <td>paccmann</td>\n",
       "      <td>IC50</td>\n",
       "      <td>no RNAseq</td>\n",
       "      <td>2.977378</td>\n",
       "      <td>0.056994</td>\n",
       "      <td>0.025489</td>\n",
       "      <td>0.873875</td>\n",
       "      <td>0.004482</td>\n",
       "      <td>0.002004</td>\n",
       "      <td>1.800063e-10</td>\n",
       "    </tr>\n",
       "    <tr>\n",
       "      <th>20</th>\n",
       "      <td>paccmann</td>\n",
       "      <td>IC50_zscore</td>\n",
       "      <td>PaccMann genes</td>\n",
       "      <td>1.272736</td>\n",
       "      <td>0.110804</td>\n",
       "      <td>0.049553</td>\n",
       "      <td>-0.002916</td>\n",
       "      <td>0.012627</td>\n",
       "      <td>0.005647</td>\n",
       "      <td>3.878955e-01</td>\n",
       "    </tr>\n",
       "    <tr>\n",
       "      <th>21</th>\n",
       "      <td>paccmann</td>\n",
       "      <td>IC50_zscore</td>\n",
       "      <td>no RNAseq</td>\n",
       "      <td>1.137302</td>\n",
       "      <td>0.053085</td>\n",
       "      <td>0.023740</td>\n",
       "      <td>-0.006157</td>\n",
       "      <td>0.016805</td>\n",
       "      <td>0.007516</td>\n",
       "      <td>3.835588e-01</td>\n",
       "    </tr>\n",
       "    <tr>\n",
       "      <th>22</th>\n",
       "      <td>paccmann_ndcg</td>\n",
       "      <td>IC50_max_conc</td>\n",
       "      <td>PaccMann genes</td>\n",
       "      <td>39.881786</td>\n",
       "      <td>8.236178</td>\n",
       "      <td>3.683331</td>\n",
       "      <td>0.515871</td>\n",
       "      <td>0.083360</td>\n",
       "      <td>0.037280</td>\n",
       "      <td>8.048895e-04</td>\n",
       "    </tr>\n",
       "    <tr>\n",
       "      <th>23</th>\n",
       "      <td>paccmann_ndcg</td>\n",
       "      <td>IC50_max_conc</td>\n",
       "      <td>no RNAseq</td>\n",
       "      <td>619.455205</td>\n",
       "      <td>152.410836</td>\n",
       "      <td>68.160198</td>\n",
       "      <td>0.697135</td>\n",
       "      <td>0.010358</td>\n",
       "      <td>0.004632</td>\n",
       "      <td>2.079288e-04</td>\n",
       "    </tr>\n",
       "    <tr>\n",
       "      <th>24</th>\n",
       "      <td>paccmann_ndcg</td>\n",
       "      <td>IC50_zscore</td>\n",
       "      <td>PaccMann genes</td>\n",
       "      <td>40.787649</td>\n",
       "      <td>9.937887</td>\n",
       "      <td>4.444358</td>\n",
       "      <td>0.000992</td>\n",
       "      <td>0.020860</td>\n",
       "      <td>0.009329</td>\n",
       "      <td>2.775243e-01</td>\n",
       "    </tr>\n",
       "    <tr>\n",
       "      <th>25</th>\n",
       "      <td>paccmann_ndcg</td>\n",
       "      <td>IC50_zscore</td>\n",
       "      <td>no RNAseq</td>\n",
       "      <td>55.994765</td>\n",
       "      <td>24.240049</td>\n",
       "      <td>10.840479</td>\n",
       "      <td>-0.004421</td>\n",
       "      <td>0.014782</td>\n",
       "      <td>0.006611</td>\n",
       "      <td>2.906431e-01</td>\n",
       "    </tr>\n",
       "  </tbody>\n",
       "</table>\n",
       "</div>"
      ],
      "text/plain": [
       "               model  drug_response                    genes         mse  \\\n",
       "0        baseline_nn           IC50           PaccMann genes    7.108623   \n",
       "1        baseline_nn           IC50                no RNAseq    3.330384   \n",
       "2        baseline_nn    IC50_zscore           PaccMann genes    1.333119   \n",
       "3        baseline_nn    IC50_zscore                no RNAseq    1.120624   \n",
       "4            deepCDR           IC50            DeepCDR genes    2.042660   \n",
       "5            deepCDR           IC50                no RNAseq    2.144892   \n",
       "6            deepCDR    IC50_zscore            DeepCDR genes    0.946770   \n",
       "7            deepCDR    IC50_zscore                no RNAseq    1.030035   \n",
       "8                knn           IC50           PaccMann genes    3.697025   \n",
       "9                knn           IC50                no RNAseq    3.687375   \n",
       "10               knn    IC50_zscore           PaccMann genes    1.984143   \n",
       "11               knn    IC50_zscore                no RNAseq    1.927974   \n",
       "12  lin_reg_feat_sel           IC50           PaccMann genes    2.289939   \n",
       "13  lin_reg_feat_sel           IC50  genes selected per drug    1.462895   \n",
       "14  lin_reg_feat_sel    IC50_zscore           PaccMann genes    1.261970   \n",
       "15  lin_reg_feat_sel    IC50_zscore  genes selected per drug    0.803622   \n",
       "16     mean_baseline           IC50                no RNAseq    1.885576   \n",
       "17     mean_baseline    IC50_zscore                no RNAseq    1.011097   \n",
       "18          paccmann           IC50           PaccMann genes    3.793136   \n",
       "19          paccmann           IC50                no RNAseq    2.977378   \n",
       "20          paccmann    IC50_zscore           PaccMann genes    1.272736   \n",
       "21          paccmann    IC50_zscore                no RNAseq    1.137302   \n",
       "22     paccmann_ndcg  IC50_max_conc           PaccMann genes   39.881786   \n",
       "23     paccmann_ndcg  IC50_max_conc                no RNAseq  619.455205   \n",
       "24     paccmann_ndcg    IC50_zscore           PaccMann genes   40.787649   \n",
       "25     paccmann_ndcg    IC50_zscore                no RNAseq   55.994765   \n",
       "\n",
       "       mse_std  mse_stderror   pearson  pearson_std  pearson_stderror  \\\n",
       "0     0.384793      0.172085  0.661693     0.047055          0.021043   \n",
       "1     0.123396      0.055184  0.876901     0.005779          0.002584   \n",
       "2     0.085293      0.038144 -0.001337     0.010816          0.004837   \n",
       "3     0.044823      0.020045  0.002018     0.027822          0.012442   \n",
       "4     0.106105      0.047452  0.882040     0.004068          0.001819   \n",
       "5     0.127681      0.057101  0.879746     0.005238          0.002343   \n",
       "6     0.034696      0.015517  0.152422     0.042658          0.019077   \n",
       "7     0.042251      0.018895 -0.006571     0.002477          0.001108   \n",
       "8     0.042615      0.019058  0.789994     0.004603          0.002059   \n",
       "9     0.209334      0.093617  0.778948     0.012946          0.005789   \n",
       "10    0.022647      0.010128  0.012632     0.012369          0.005532   \n",
       "11    0.071832      0.032124 -0.001874     0.003294          0.001473   \n",
       "12    0.056963      0.025475  0.855725     0.002888          0.001291   \n",
       "13    0.028728      0.012848  0.905607     0.001206          0.000539   \n",
       "14    0.032109      0.014360  0.220127     0.010473          0.004684   \n",
       "15    0.013984      0.006254  0.362940     0.010518          0.004704   \n",
       "16    0.036097      0.016143  0.887995     0.001508          0.000674   \n",
       "17    0.023602      0.010555 -0.078642     0.010345          0.004626   \n",
       "18    0.175898      0.078664  0.811235     0.013784          0.006164   \n",
       "19    0.056994      0.025489  0.873875     0.004482          0.002004   \n",
       "20    0.110804      0.049553 -0.002916     0.012627          0.005647   \n",
       "21    0.053085      0.023740 -0.006157     0.016805          0.007516   \n",
       "22    8.236178      3.683331  0.515871     0.083360          0.037280   \n",
       "23  152.410836     68.160198  0.697135     0.010358          0.004632   \n",
       "24    9.937887      4.444358  0.000992     0.020860          0.009329   \n",
       "25   24.240049     10.840479 -0.004421     0.014782          0.006611   \n",
       "\n",
       "       pval_mean  \n",
       "0   1.715582e-03  \n",
       "1   2.302276e-10  \n",
       "2   3.458118e-01  \n",
       "3   3.013171e-01  \n",
       "4   4.635977e-10  \n",
       "5   2.706106e-10  \n",
       "6   1.978429e-01  \n",
       "7   5.421090e-01  \n",
       "8   1.540798e-09  \n",
       "9   9.462289e-09  \n",
       "10  2.771743e-01  \n",
       "11  5.115752e-01  \n",
       "12  2.109383e-09  \n",
       "13  3.821619e-12  \n",
       "14  1.054026e-01  \n",
       "15  1.299675e-02  \n",
       "16  1.392109e-11  \n",
       "17  1.846623e-01  \n",
       "18  2.054305e-10  \n",
       "19  1.800063e-10  \n",
       "20  3.878955e-01  \n",
       "21  3.835588e-01  \n",
       "22  8.048895e-04  \n",
       "23  2.079288e-04  \n",
       "24  2.775243e-01  \n",
       "25  2.906431e-01  "
      ]
     },
     "execution_count": 46,
     "metadata": {},
     "output_type": "execute_result"
    }
   ],
   "source": [
    "counter = 0\n",
    "mse_pearson_res = pd.DataFrame(columns = ['model', 'drug_response', 'genes',\n",
    "                                           'mse', 'mse_std', 'mse_stderror',\n",
    "                                           'pearson', 'pearson_std', 'pearson_stderror', 'pval_mean'])\n",
    "\n",
    "for (model, drug_response, genes), rows in mse_pearson_eval.groupby(['model', 'drug_response', 'genes']):\n",
    "    mse_pearson_res.loc[counter] = [model, drug_response, genes, \n",
    "                              np.mean(rows.mse), np.std(rows.mse), np.std(rows.mse)/np.sqrt(len(rows.mse)),\n",
    "                              np.mean(rows.pearson), np.std(rows.pearson), np.std(rows.pearson)/np.sqrt(len(rows.pearson)),\n",
    "                              np.mean(rows.pval)\n",
    "                            ]\n",
    "    counter+=1\n",
    "mse_pearson_res.to_csv('tables/results/GDSC/gdsc_mse_pearson_per_cell_line.csv')\n",
    "mse_pearson_res"
   ]
  },
  {
   "cell_type": "code",
   "execution_count": 90,
   "metadata": {},
   "outputs": [],
   "source": [
    "def extract_metrics(mse_pearson, models):\n",
    "    pearson = []\n",
    "    pearson_err = []\n",
    "    mse = []\n",
    "    mse_err = []\n",
    "    for model in models:\n",
    "        row = mse_pearson[mse_pearson.model == model]\n",
    "        if model == 'lin_reg_feat_sel': \n",
    "            row = row[row.genes != 'PaccMann genes']\n",
    "        if len(row) == 0:\n",
    "            pearson.append(0)\n",
    "            pearson_err.append(0)\n",
    "            mse.append(0)\n",
    "            mse_err.append(0)\n",
    "        else:\n",
    "            pearson.append(row.pearson.values[0])\n",
    "            pearson_err.append(row.pearson_std.values[0])\n",
    "            mse.append(row.mse.values[0])\n",
    "            mse_err.append(row.mse_std.values[0])\n",
    "    return (pearson, pearson_err, mse, mse_err)"
   ]
  },
  {
   "cell_type": "code",
   "execution_count": 133,
   "metadata": {},
   "outputs": [
    {
     "data": {
      "image/png": "[encoded data removed]",
      "text/plain": [
       "<Figure size 450x200 with 1 Axes>"
      ]
     },
     "metadata": {},
     "output_type": "display_data"
    }
   ],
   "source": [
    "rel_mse_pearson_eval = mse_pearson_eval[(mse_pearson_eval.model.isin(['deepCDR', 'knn', 'mean_baseline', \n",
    "                                                                      'lin_reg_feat_sel', 'paccmann',\n",
    "       'baseline_nn']) & mse_pearson_eval.drug_response.isin(['IC50', 'IC50_zscore']))]\n",
    "rel_mse_pearson_eval = rel_mse_pearson_eval[(rel_mse_pearson_eval.model!='lin_reg_feat_sel')|(rel_mse_pearson_eval.genes!='PaccMann genes')]\n",
    "rel_mse_pearson_eval = rel_mse_pearson_eval.replace({'deepCDR': 'DeepCDR', 'paccmann': 'PaccMann',\n",
    "                                                   'baseline_nn': 'Baseline NN', 'mean_baseline': 'Mean baseline',\n",
    "                                                   'lin_reg_feat_sel': 'Lin reg sel genes', 'knn': 'KNN',\n",
    "                                                   'IC50_zscore': 'IC50 zscore'})\n",
    "for (dr, g), rows in rel_mse_pearson_eval.groupby(['drug_response', 'genes']):\n",
    "    if g == 'no RNAseq': rel_mse_pearson_eval.loc[rows.index, 'label'] = dr + ' no -omics'\n",
    "    else: rel_mse_pearson_eval.loc[rows.index, 'label'] = dr\n",
    "        \n",
    "\n",
    "fig, axs = plt.subplots(nrows=1, ncols=1, figsize = (4.5, 2))\n",
    "\n",
    "sns.barplot(x=\"model\", y=\"pearson\", hue=\"label\", data=rel_mse_pearson_eval, ax = axs, \n",
    "            width=0.5, errorbar = 'sd', \n",
    "            order=['KNN', 'Baseline NN', 'PaccMann', 'DeepCDR', 'Mean baseline', 'Lin reg sel genes'])\n",
    "\n",
    "\n",
    "axs.set_ylabel(\"Pearson's R\")\n",
    "axs.set_xticklabels(axs.get_xticklabels(), rotation=45)\n",
    "axs.grid('horizontal')\n",
    "axs.set_xlabel(None)\n",
    "\n",
    "axs.legend(bbox_to_anchor=(1, 1.05), title=None)\n",
    "\n",
    "plt.savefig('figures/results/GDSC/GDSC_models_pearson.png', facecolor = 'white', \n",
    "            transparent = False, dpi=500, bbox_inches='tight') "
   ]
  },
  {
   "cell_type": "code",
   "execution_count": 167,
   "metadata": {},
   "outputs": [
    {
     "data": {
      "image/png": "[encoded data removed]",
      "text/plain": [
       "<Figure size 1100x500 with 6 Axes>"
      ]
     },
     "metadata": {},
     "output_type": "display_data"
    }
   ],
   "source": [
    "rel_ranking_res = ranking_eval[(ranking_eval.model.isin(['deepCDR', 'knn', 'mean_baseline', \n",
    "                                                                      'lin_reg_feat_sel', 'paccmann',\n",
    "       'baseline_nn']) & ranking_eval.drug_response.isin(['IC50', 'IC50_zscore']))]\n",
    "rel_ranking_res = rel_ranking_res[(rel_ranking_res.model!='lin_reg_feat_sel')|(rel_ranking_res.genes!='PaccMann genes')]\n",
    "rel_ranking_res = rel_ranking_res.replace({'deepCDR': 'DeepCDR', 'paccmann': 'PaccMann',\n",
    "                                                   'baseline_nn': 'Baseline NN', 'mean_baseline': 'Mean baseline',\n",
    "                                                   'lin_reg_feat_sel': 'Linear regression selected genes', 'knn': 'KNN',\n",
    "                                                   'IC50_zscore': 'IC50 zscore'})\n",
    "for (dr, g), rows in rel_ranking_res.groupby(['drug_response', 'genes']):\n",
    "    if g == 'no RNAseq': rel_ranking_res.loc[rows.index, 'label'] = dr + ' no -omics'\n",
    "    else: rel_ranking_res.loc[rows.index, 'label'] = dr\n",
    "        \n",
    "fig, axs = plt.subplots(nrows=2, ncols=3, figsize=(11,5), constrained_layout=True, \n",
    "                        sharey=True, sharex=True)\n",
    "axs = axs.ravel()\n",
    "X = ks\n",
    "X_axis = np.arange(len(X))\n",
    "\n",
    "for i, model in enumerate(['KNN', 'Baseline NN', 'PaccMann', 'DeepCDR', 'Mean baseline', 'Linear regression selected genes']): \n",
    "    data = rel_ranking_res[rel_ranking_res.model == model]\n",
    "    if model == 'Mean baseline':\n",
    "        append_IC50_df = pd.DataFrame({'k': ks, 'model': [model] * len(ks), 'label': ['IC50']*len(ks),\n",
    "                                 'prec': [0.0]*len(ks)})\n",
    "        append_IC50zscore_df = pd.DataFrame({'k': ks, 'model': [model] * len(ks), \n",
    "                                             'label': ['IC50 zscore']*len(ks),\n",
    "                                             'prec': [0.0]*len(ks)})\n",
    "        data = pd.concat([append_IC50_df, data[data.label=='IC50 no -omics'], append_IC50zscore_df, data[data.label=='IC50 zscore no -omics']])\n",
    "    elif model == 'Linear regression selected genes':\n",
    "        append_IC50_no_df = pd.DataFrame({'k': ks, 'model': [model] * len(ks), 'label': ['IC50 no -omic']*len(ks),\n",
    "                                 'prec': [0.0]*len(ks)})\n",
    "        append_IC50zscore_no_df = pd.DataFrame({'k': ks, 'model': [model] * len(ks), \n",
    "                                             'label': ['IC50 zscore no -omics']*len(ks),\n",
    "                                             'prec': [0.0]*len(ks)})\n",
    "        data = pd.concat([data[data.label=='IC50'], append_IC50_no_df, data[data.label=='IC50 zscore'], append_IC50zscore_no_df])\n",
    "    \n",
    "    sns.barplot(x=\"k\", y=\"prec\", hue=\"label\", data=data, ax = axs[i], \n",
    "            errorbar = 'sd')\n",
    "    \n",
    "    axs[i].set_title(model)\n",
    "    axs[i].set_xticks(X_axis, X)\n",
    "    if i==0 or i==3: axs[i].set_ylabel(\"Precision\")\n",
    "    else: axs[i].set_ylabel(None)\n",
    "    if i>2: axs[i].set_xlabel(\"k\")\n",
    "    else: axs[i].set_xlabel(None)\n",
    "    axs[i].grid(axis='y')\n",
    "    if i==0: axs[i].legend(title=None)\n",
    "    else: axs[i].get_legend().remove()\n",
    "        \n",
    "plt.savefig('figures/results/GDSC/GDSC_models_ranking.png', facecolor = 'white', transparent = False, \n",
    "            dpi=500, bbox_inches='tight')"
   ]
  },
  {
   "cell_type": "code",
   "execution_count": 48,
   "metadata": {},
   "outputs": [
    {
     "data": {
      "text/html": [
       "<div>\n",
       "<style scoped>\n",
       "    .dataframe tbody tr th:only-of-type {\n",
       "        vertical-align: middle;\n",
       "    }\n",
       "\n",
       "    .dataframe tbody tr th {\n",
       "        vertical-align: top;\n",
       "    }\n",
       "\n",
       "    .dataframe thead th {\n",
       "        text-align: right;\n",
       "    }\n",
       "</style>\n",
       "<table border=\"1\" class=\"dataframe\">\n",
       "  <thead>\n",
       "    <tr style=\"text-align: right;\">\n",
       "      <th></th>\n",
       "      <th>model</th>\n",
       "      <th>drug_response</th>\n",
       "      <th>genes</th>\n",
       "      <th>mse</th>\n",
       "      <th>mse_std</th>\n",
       "      <th>mse_stderror</th>\n",
       "      <th>pearson</th>\n",
       "      <th>pearson_std</th>\n",
       "      <th>pearson_stderror</th>\n",
       "      <th>pval_mean</th>\n",
       "    </tr>\n",
       "  </thead>\n",
       "  <tbody>\n",
       "    <tr>\n",
       "      <th>0</th>\n",
       "      <td>baseline_nn</td>\n",
       "      <td>IC50</td>\n",
       "      <td>PaccMann genes</td>\n",
       "      <td>7.060947</td>\n",
       "      <td>0.356532</td>\n",
       "      <td>0.159446</td>\n",
       "      <td>0.024876</td>\n",
       "      <td>0.027067</td>\n",
       "      <td>0.012105</td>\n",
       "      <td>0.519427</td>\n",
       "    </tr>\n",
       "    <tr>\n",
       "      <th>1</th>\n",
       "      <td>baseline_nn</td>\n",
       "      <td>IC50</td>\n",
       "      <td>no RNAseq</td>\n",
       "      <td>3.274661</td>\n",
       "      <td>0.133009</td>\n",
       "      <td>0.059483</td>\n",
       "      <td>NaN</td>\n",
       "      <td>NaN</td>\n",
       "      <td>NaN</td>\n",
       "      <td>NaN</td>\n",
       "    </tr>\n",
       "    <tr>\n",
       "      <th>2</th>\n",
       "      <td>baseline_nn</td>\n",
       "      <td>IC50_zscore</td>\n",
       "      <td>PaccMann genes</td>\n",
       "      <td>1.324197</td>\n",
       "      <td>0.091444</td>\n",
       "      <td>0.040895</td>\n",
       "      <td>0.016811</td>\n",
       "      <td>0.030035</td>\n",
       "      <td>0.013432</td>\n",
       "      <td>0.498617</td>\n",
       "    </tr>\n",
       "    <tr>\n",
       "      <th>3</th>\n",
       "      <td>baseline_nn</td>\n",
       "      <td>IC50_zscore</td>\n",
       "      <td>no RNAseq</td>\n",
       "      <td>1.116797</td>\n",
       "      <td>0.057449</td>\n",
       "      <td>0.025692</td>\n",
       "      <td>NaN</td>\n",
       "      <td>NaN</td>\n",
       "      <td>NaN</td>\n",
       "      <td>NaN</td>\n",
       "    </tr>\n",
       "    <tr>\n",
       "      <th>4</th>\n",
       "      <td>deepCDR</td>\n",
       "      <td>IC50</td>\n",
       "      <td>DeepCDR genes</td>\n",
       "      <td>2.064163</td>\n",
       "      <td>0.087234</td>\n",
       "      <td>0.039012</td>\n",
       "      <td>0.299675</td>\n",
       "      <td>0.034752</td>\n",
       "      <td>0.015541</td>\n",
       "      <td>0.100394</td>\n",
       "    </tr>\n",
       "    <tr>\n",
       "      <th>5</th>\n",
       "      <td>deepCDR</td>\n",
       "      <td>IC50</td>\n",
       "      <td>no RNAseq</td>\n",
       "      <td>2.156303</td>\n",
       "      <td>0.145480</td>\n",
       "      <td>0.065061</td>\n",
       "      <td>NaN</td>\n",
       "      <td>NaN</td>\n",
       "      <td>NaN</td>\n",
       "      <td>NaN</td>\n",
       "    </tr>\n",
       "    <tr>\n",
       "      <th>6</th>\n",
       "      <td>deepCDR</td>\n",
       "      <td>IC50_zscore</td>\n",
       "      <td>DeepCDR genes</td>\n",
       "      <td>0.950568</td>\n",
       "      <td>0.030629</td>\n",
       "      <td>0.013698</td>\n",
       "      <td>0.319944</td>\n",
       "      <td>0.018533</td>\n",
       "      <td>0.008288</td>\n",
       "      <td>0.087947</td>\n",
       "    </tr>\n",
       "    <tr>\n",
       "      <th>7</th>\n",
       "      <td>deepCDR</td>\n",
       "      <td>IC50_zscore</td>\n",
       "      <td>no RNAseq</td>\n",
       "      <td>1.022443</td>\n",
       "      <td>0.055931</td>\n",
       "      <td>0.025013</td>\n",
       "      <td>NaN</td>\n",
       "      <td>NaN</td>\n",
       "      <td>NaN</td>\n",
       "      <td>NaN</td>\n",
       "    </tr>\n",
       "    <tr>\n",
       "      <th>8</th>\n",
       "      <td>knn</td>\n",
       "      <td>IC50</td>\n",
       "      <td>PaccMann genes</td>\n",
       "      <td>3.732895</td>\n",
       "      <td>0.013347</td>\n",
       "      <td>0.005969</td>\n",
       "      <td>0.028888</td>\n",
       "      <td>0.010571</td>\n",
       "      <td>0.004727</td>\n",
       "      <td>0.497557</td>\n",
       "    </tr>\n",
       "    <tr>\n",
       "      <th>9</th>\n",
       "      <td>knn</td>\n",
       "      <td>IC50</td>\n",
       "      <td>no RNAseq</td>\n",
       "      <td>3.723531</td>\n",
       "      <td>0.191661</td>\n",
       "      <td>0.085713</td>\n",
       "      <td>NaN</td>\n",
       "      <td>NaN</td>\n",
       "      <td>NaN</td>\n",
       "      <td>NaN</td>\n",
       "    </tr>\n",
       "    <tr>\n",
       "      <th>10</th>\n",
       "      <td>knn</td>\n",
       "      <td>IC50_zscore</td>\n",
       "      <td>PaccMann genes</td>\n",
       "      <td>1.974448</td>\n",
       "      <td>0.014254</td>\n",
       "      <td>0.006375</td>\n",
       "      <td>0.028937</td>\n",
       "      <td>0.010177</td>\n",
       "      <td>0.004551</td>\n",
       "      <td>0.497311</td>\n",
       "    </tr>\n",
       "    <tr>\n",
       "      <th>11</th>\n",
       "      <td>knn</td>\n",
       "      <td>IC50_zscore</td>\n",
       "      <td>no RNAseq</td>\n",
       "      <td>1.925890</td>\n",
       "      <td>0.064466</td>\n",
       "      <td>0.028830</td>\n",
       "      <td>NaN</td>\n",
       "      <td>NaN</td>\n",
       "      <td>NaN</td>\n",
       "      <td>NaN</td>\n",
       "    </tr>\n",
       "    <tr>\n",
       "      <th>12</th>\n",
       "      <td>lin_reg_feat_sel</td>\n",
       "      <td>IC50</td>\n",
       "      <td>PaccMann genes</td>\n",
       "      <td>2.279505</td>\n",
       "      <td>0.045265</td>\n",
       "      <td>0.020243</td>\n",
       "      <td>0.305296</td>\n",
       "      <td>0.013643</td>\n",
       "      <td>0.006101</td>\n",
       "      <td>0.038302</td>\n",
       "    </tr>\n",
       "    <tr>\n",
       "      <th>13</th>\n",
       "      <td>lin_reg_feat_sel</td>\n",
       "      <td>IC50</td>\n",
       "      <td>genes selected per drug</td>\n",
       "      <td>1.468096</td>\n",
       "      <td>0.023686</td>\n",
       "      <td>0.010593</td>\n",
       "      <td>0.461772</td>\n",
       "      <td>0.012129</td>\n",
       "      <td>0.005424</td>\n",
       "      <td>0.000346</td>\n",
       "    </tr>\n",
       "    <tr>\n",
       "      <th>14</th>\n",
       "      <td>lin_reg_feat_sel</td>\n",
       "      <td>IC50_zscore</td>\n",
       "      <td>PaccMann genes</td>\n",
       "      <td>1.239273</td>\n",
       "      <td>0.027149</td>\n",
       "      <td>0.012142</td>\n",
       "      <td>0.305354</td>\n",
       "      <td>0.013636</td>\n",
       "      <td>0.006098</td>\n",
       "      <td>0.038050</td>\n",
       "    </tr>\n",
       "    <tr>\n",
       "      <th>15</th>\n",
       "      <td>lin_reg_feat_sel</td>\n",
       "      <td>IC50_zscore</td>\n",
       "      <td>genes selected per drug</td>\n",
       "      <td>0.795527</td>\n",
       "      <td>0.009224</td>\n",
       "      <td>0.004125</td>\n",
       "      <td>0.461789</td>\n",
       "      <td>0.012102</td>\n",
       "      <td>0.005412</td>\n",
       "      <td>0.000346</td>\n",
       "    </tr>\n",
       "    <tr>\n",
       "      <th>16</th>\n",
       "      <td>mean_baseline</td>\n",
       "      <td>IC50</td>\n",
       "      <td>no RNAseq</td>\n",
       "      <td>1.897417</td>\n",
       "      <td>0.022246</td>\n",
       "      <td>0.009949</td>\n",
       "      <td>NaN</td>\n",
       "      <td>NaN</td>\n",
       "      <td>NaN</td>\n",
       "      <td>NaN</td>\n",
       "    </tr>\n",
       "    <tr>\n",
       "      <th>17</th>\n",
       "      <td>mean_baseline</td>\n",
       "      <td>IC50_zscore</td>\n",
       "      <td>no RNAseq</td>\n",
       "      <td>1.001236</td>\n",
       "      <td>0.017283</td>\n",
       "      <td>0.007729</td>\n",
       "      <td>NaN</td>\n",
       "      <td>NaN</td>\n",
       "      <td>NaN</td>\n",
       "      <td>NaN</td>\n",
       "    </tr>\n",
       "    <tr>\n",
       "      <th>18</th>\n",
       "      <td>paccmann</td>\n",
       "      <td>IC50</td>\n",
       "      <td>PaccMann genes</td>\n",
       "      <td>3.753184</td>\n",
       "      <td>0.171809</td>\n",
       "      <td>0.076835</td>\n",
       "      <td>0.020734</td>\n",
       "      <td>0.036214</td>\n",
       "      <td>0.016195</td>\n",
       "      <td>0.469977</td>\n",
       "    </tr>\n",
       "    <tr>\n",
       "      <th>19</th>\n",
       "      <td>paccmann</td>\n",
       "      <td>IC50</td>\n",
       "      <td>no RNAseq</td>\n",
       "      <td>2.972655</td>\n",
       "      <td>0.125384</td>\n",
       "      <td>0.056073</td>\n",
       "      <td>NaN</td>\n",
       "      <td>NaN</td>\n",
       "      <td>NaN</td>\n",
       "      <td>NaN</td>\n",
       "    </tr>\n",
       "    <tr>\n",
       "      <th>20</th>\n",
       "      <td>paccmann</td>\n",
       "      <td>IC50_zscore</td>\n",
       "      <td>PaccMann genes</td>\n",
       "      <td>1.280845</td>\n",
       "      <td>0.124296</td>\n",
       "      <td>0.055587</td>\n",
       "      <td>-0.007829</td>\n",
       "      <td>0.028474</td>\n",
       "      <td>0.012734</td>\n",
       "      <td>0.485886</td>\n",
       "    </tr>\n",
       "    <tr>\n",
       "      <th>21</th>\n",
       "      <td>paccmann</td>\n",
       "      <td>IC50_zscore</td>\n",
       "      <td>no RNAseq</td>\n",
       "      <td>1.136583</td>\n",
       "      <td>0.062960</td>\n",
       "      <td>0.028157</td>\n",
       "      <td>NaN</td>\n",
       "      <td>NaN</td>\n",
       "      <td>NaN</td>\n",
       "      <td>NaN</td>\n",
       "    </tr>\n",
       "    <tr>\n",
       "      <th>22</th>\n",
       "      <td>paccmann_ndcg</td>\n",
       "      <td>IC50_max_conc</td>\n",
       "      <td>PaccMann genes</td>\n",
       "      <td>39.390935</td>\n",
       "      <td>7.857037</td>\n",
       "      <td>3.513774</td>\n",
       "      <td>-0.000341</td>\n",
       "      <td>0.006369</td>\n",
       "      <td>0.002848</td>\n",
       "      <td>0.510350</td>\n",
       "    </tr>\n",
       "    <tr>\n",
       "      <th>23</th>\n",
       "      <td>paccmann_ndcg</td>\n",
       "      <td>IC50_max_conc</td>\n",
       "      <td>no RNAseq</td>\n",
       "      <td>616.861022</td>\n",
       "      <td>146.515217</td>\n",
       "      <td>65.523597</td>\n",
       "      <td>NaN</td>\n",
       "      <td>NaN</td>\n",
       "      <td>NaN</td>\n",
       "      <td>NaN</td>\n",
       "    </tr>\n",
       "    <tr>\n",
       "      <th>24</th>\n",
       "      <td>paccmann_ndcg</td>\n",
       "      <td>IC50_zscore</td>\n",
       "      <td>PaccMann genes</td>\n",
       "      <td>42.241294</td>\n",
       "      <td>10.789691</td>\n",
       "      <td>4.825296</td>\n",
       "      <td>-0.004939</td>\n",
       "      <td>0.009387</td>\n",
       "      <td>0.004198</td>\n",
       "      <td>0.518621</td>\n",
       "    </tr>\n",
       "    <tr>\n",
       "      <th>25</th>\n",
       "      <td>paccmann_ndcg</td>\n",
       "      <td>IC50_zscore</td>\n",
       "      <td>no RNAseq</td>\n",
       "      <td>58.120283</td>\n",
       "      <td>24.990086</td>\n",
       "      <td>11.175906</td>\n",
       "      <td>NaN</td>\n",
       "      <td>NaN</td>\n",
       "      <td>NaN</td>\n",
       "      <td>NaN</td>\n",
       "    </tr>\n",
       "  </tbody>\n",
       "</table>\n",
       "</div>"
      ],
      "text/plain": [
       "               model  drug_response                    genes         mse  \\\n",
       "0        baseline_nn           IC50           PaccMann genes    7.060947   \n",
       "1        baseline_nn           IC50                no RNAseq    3.274661   \n",
       "2        baseline_nn    IC50_zscore           PaccMann genes    1.324197   \n",
       "3        baseline_nn    IC50_zscore                no RNAseq    1.116797   \n",
       "4            deepCDR           IC50            DeepCDR genes    2.064163   \n",
       "5            deepCDR           IC50                no RNAseq    2.156303   \n",
       "6            deepCDR    IC50_zscore            DeepCDR genes    0.950568   \n",
       "7            deepCDR    IC50_zscore                no RNAseq    1.022443   \n",
       "8                knn           IC50           PaccMann genes    3.732895   \n",
       "9                knn           IC50                no RNAseq    3.723531   \n",
       "10               knn    IC50_zscore           PaccMann genes    1.974448   \n",
       "11               knn    IC50_zscore                no RNAseq    1.925890   \n",
       "12  lin_reg_feat_sel           IC50           PaccMann genes    2.279505   \n",
       "13  lin_reg_feat_sel           IC50  genes selected per drug    1.468096   \n",
       "14  lin_reg_feat_sel    IC50_zscore           PaccMann genes    1.239273   \n",
       "15  lin_reg_feat_sel    IC50_zscore  genes selected per drug    0.795527   \n",
       "16     mean_baseline           IC50                no RNAseq    1.897417   \n",
       "17     mean_baseline    IC50_zscore                no RNAseq    1.001236   \n",
       "18          paccmann           IC50           PaccMann genes    3.753184   \n",
       "19          paccmann           IC50                no RNAseq    2.972655   \n",
       "20          paccmann    IC50_zscore           PaccMann genes    1.280845   \n",
       "21          paccmann    IC50_zscore                no RNAseq    1.136583   \n",
       "22     paccmann_ndcg  IC50_max_conc           PaccMann genes   39.390935   \n",
       "23     paccmann_ndcg  IC50_max_conc                no RNAseq  616.861022   \n",
       "24     paccmann_ndcg    IC50_zscore           PaccMann genes   42.241294   \n",
       "25     paccmann_ndcg    IC50_zscore                no RNAseq   58.120283   \n",
       "\n",
       "       mse_std  mse_stderror   pearson  pearson_std  pearson_stderror  \\\n",
       "0     0.356532      0.159446  0.024876     0.027067          0.012105   \n",
       "1     0.133009      0.059483       NaN          NaN               NaN   \n",
       "2     0.091444      0.040895  0.016811     0.030035          0.013432   \n",
       "3     0.057449      0.025692       NaN          NaN               NaN   \n",
       "4     0.087234      0.039012  0.299675     0.034752          0.015541   \n",
       "5     0.145480      0.065061       NaN          NaN               NaN   \n",
       "6     0.030629      0.013698  0.319944     0.018533          0.008288   \n",
       "7     0.055931      0.025013       NaN          NaN               NaN   \n",
       "8     0.013347      0.005969  0.028888     0.010571          0.004727   \n",
       "9     0.191661      0.085713       NaN          NaN               NaN   \n",
       "10    0.014254      0.006375  0.028937     0.010177          0.004551   \n",
       "11    0.064466      0.028830       NaN          NaN               NaN   \n",
       "12    0.045265      0.020243  0.305296     0.013643          0.006101   \n",
       "13    0.023686      0.010593  0.461772     0.012129          0.005424   \n",
       "14    0.027149      0.012142  0.305354     0.013636          0.006098   \n",
       "15    0.009224      0.004125  0.461789     0.012102          0.005412   \n",
       "16    0.022246      0.009949       NaN          NaN               NaN   \n",
       "17    0.017283      0.007729       NaN          NaN               NaN   \n",
       "18    0.171809      0.076835  0.020734     0.036214          0.016195   \n",
       "19    0.125384      0.056073       NaN          NaN               NaN   \n",
       "20    0.124296      0.055587 -0.007829     0.028474          0.012734   \n",
       "21    0.062960      0.028157       NaN          NaN               NaN   \n",
       "22    7.857037      3.513774 -0.000341     0.006369          0.002848   \n",
       "23  146.515217     65.523597       NaN          NaN               NaN   \n",
       "24   10.789691      4.825296 -0.004939     0.009387          0.004198   \n",
       "25   24.990086     11.175906       NaN          NaN               NaN   \n",
       "\n",
       "    pval_mean  \n",
       "0    0.519427  \n",
       "1         NaN  \n",
       "2    0.498617  \n",
       "3         NaN  \n",
       "4    0.100394  \n",
       "5         NaN  \n",
       "6    0.087947  \n",
       "7         NaN  \n",
       "8    0.497557  \n",
       "9         NaN  \n",
       "10   0.497311  \n",
       "11        NaN  \n",
       "12   0.038302  \n",
       "13   0.000346  \n",
       "14   0.038050  \n",
       "15   0.000346  \n",
       "16        NaN  \n",
       "17        NaN  \n",
       "18   0.469977  \n",
       "19        NaN  \n",
       "20   0.485886  \n",
       "21        NaN  \n",
       "22   0.510350  \n",
       "23        NaN  \n",
       "24   0.518621  \n",
       "25        NaN  "
      ]
     },
     "execution_count": 48,
     "metadata": {},
     "output_type": "execute_result"
    }
   ],
   "source": [
    "counter = 0\n",
    "mse_pearson_res_per_drug = pd.DataFrame(columns = ['model', 'drug_response', 'genes',\n",
    "                                           'mse', 'mse_std', 'mse_stderror',\n",
    "                                           'pearson', 'pearson_std', 'pearson_stderror', 'pval_mean'])\n",
    "\n",
    "for (model, drug_response, genes), rows in mse_pearson_eval_per_drug.groupby(['model', 'drug_response', 'genes']):\n",
    "    mse_pearson_res_per_drug.loc[counter] = [model, drug_response, genes, \n",
    "                              np.mean(rows.mse), np.std(rows.mse), np.std(rows.mse)/np.sqrt(len(rows.mse)),\n",
    "                              np.mean(rows.pearson), np.std(rows.pearson), \n",
    "                              np.std(rows.pearson)/np.sqrt(len(rows.pearson)),\n",
    "                              np.mean(rows.pval)\n",
    "                            ]\n",
    "    counter+=1\n",
    "mse_pearson_res_per_drug.to_csv('tables/results/GDSC/gdsc_mse_pearson_per_drug.csv')\n",
    "mse_pearson_res_per_drug"
   ]
  },
  {
   "cell_type": "code",
   "execution_count": null,
   "metadata": {},
   "outputs": [],
   "source": []
  }
 ],
 "metadata": {
  "kernelspec": {
   "display_name": "Python 3 (ipykernel)",
   "language": "python",
   "name": "python3"
  },
  "language_info": {
   "codemirror_mode": {
    "name": "ipython",
    "version": 3
   },
   "file_extension": ".py",
   "mimetype": "text/x-python",
   "name": "python",
   "nbconvert_exporter": "python",
   "pygments_lexer": "ipython3",
   "version": "3.9.15"
  }
 },
 "nbformat": 4,
 "nbformat_minor": 4
}
