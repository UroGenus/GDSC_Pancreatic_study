{
 "cells": [
  {
   "cell_type": "code",
   "execution_count": 1,
   "id": "d5b3e2da",
   "metadata": {},
   "outputs": [],
   "source": [
    "import pandas as pd\n",
    "import os\n",
    "import matplotlib.pyplot as plt\n",
    "import seaborn as sns\n",
    "from tqdm import notebook\n",
    "import scipy.stats\n",
    "from sklearn.metrics import mean_squared_error\n",
    "%matplotlib inline\n",
    "import numpy as np\n",
    "\n",
    "import umap\n",
    "import umap.plot\n",
    "reducer = umap.UMAP(random_state=42)\n",
    "\n",
    "plt.rcParams.update({'font.family': 'serif', 'font.serif': 'Arial', \"figure.facecolor\": \n",
    "                     'white', \"axes.facecolor\": 'white',\n",
    "                     \"savefig.facecolor\": 'white'})"
   ]
  },
  {
   "cell_type": "code",
   "execution_count": 2,
   "id": "2b6606e8",
   "metadata": {},
   "outputs": [
    {
     "data": {
      "text/plain": [
       "(55, 50651)"
      ]
     },
     "execution_count": 2,
     "metadata": {},
     "output_type": "execute_result"
    }
   ],
   "source": [
    "counts_file = 'data/Pancreatic/Pancreatic_RNAseq_tpm.csv'\n",
    "counts_df = pd.read_csv(counts_file, index_col = 0)\n",
    "\n",
    "# remove genes with constant values\n",
    "constant_columns = counts_df.columns[counts_df.nunique() <= 1]\n",
    "counts_df = counts_df.drop(columns = constant_columns)\n",
    "counts_df.shape"
   ]
  },
  {
   "cell_type": "code",
   "execution_count": 3,
   "id": "94e626a6",
   "metadata": {},
   "outputs": [
    {
     "name": "stdout",
     "output_type": "stream",
     "text": [
      "43\n"
     ]
    }
   ],
   "source": [
    "viability_file = 'data/Pancreatic/viability.csv'\n",
    "viability_df = pd.read_csv(viability_file, index_col = 0)\n",
    "drugs = viability_df.columns\n",
    "viability_df = (viability_df - viability_df.mean()) / viability_df.std()\n",
    "\n",
    "shared_patients = list(set(counts_df.index) & set(viability_df.index))\n",
    "print(len(shared_patients))\n",
    "counts_df = counts_df.loc[shared_patients]\n",
    "viability_df = viability_df.loc[shared_patients]"
   ]
  },
  {
   "cell_type": "code",
   "execution_count": 4,
   "id": "00a99cd8",
   "metadata": {},
   "outputs": [
    {
     "name": "stdout",
     "output_type": "stream",
     "text": [
      "Removed constant features 1000\n"
     ]
    }
   ],
   "source": [
    "from sklearn.preprocessing import StandardScaler\n",
    "from sklearn.preprocessing import PowerTransformer\n",
    "\n",
    "features_df = counts_df\n",
    "\n",
    "ss = StandardScaler()\n",
    "pt = PowerTransformer()\n",
    "\n",
    "# OPTION 0 (no norm)\n",
    "#features_norm_df = features_df\n",
    "\n",
    "#OPTION 1\n",
    "#features_norm_df = pd.DataFrame(pt.fit_transform(features_df), index = features_df.index, columns = features_df.columns)\n",
    "\n",
    "# OPTION 2\n",
    "#features_norm_df = pd.DataFrame(ss.fit_transform(features_df), index = features_df.index, columns = features_df.columns)\n",
    "\n",
    "# OPTION 3 (Seurat normalization)\n",
    "#features_norm_df = np.log2((features_df.T / features_df.T.sum().values) * 10000 + 1).T \n",
    "\n",
    "# OPTION 4\n",
    "def _handle_zeros_in_scale(scale, copy=True):\n",
    "    \"\"\"\n",
    "    This method is copied `from sklearn.preprocessing._data`\n",
    "    Makes sure that whenever scale is zero, we handle it correctly.\n",
    "    This happens in most scalers when we have constant features.\n",
    "    \"\"\"\n",
    "    # if we are fitting on 1D arrays, scale might be a scalar\n",
    "    if np.isscalar(scale):\n",
    "        if scale == 0.0:\n",
    "            scale = 1.0\n",
    "        return scale\n",
    "    elif isinstance(scale, np.ndarray):\n",
    "        if copy:\n",
    "            # New array to avoid side-effects\n",
    "            scale = scale.copy()\n",
    "        scale[scale == 0.0] = 1.0\n",
    "        return scale\n",
    "\n",
    "def transform_standardize(data, mean, std):\n",
    "    return (data - mean) / _handle_zeros_in_scale(std, copy=False)\n",
    "\n",
    "features_norm_df = transform_standardize(features_df, features_df.mean(), features_df.std().values)\n",
    "\n",
    "constant_columns = features_norm_df.columns[features_norm_df.nunique() <= 1]\n",
    "features_norm_df = features_norm_df.drop(columns = constant_columns)\n",
    "print('Removed constant features', len(constant_columns))"
   ]
  },
  {
   "cell_type": "code",
   "execution_count": 5,
   "id": "9cc16ea2",
   "metadata": {},
   "outputs": [],
   "source": [
    "feat_corr = features_norm_df.corr()"
   ]
  },
  {
   "cell_type": "code",
   "execution_count": 6,
   "id": "50e55cdd",
   "metadata": {},
   "outputs": [],
   "source": [
    "important_genes = pd.read_csv('feature_importance/Pancreatic/AUC_zscore/SHAP_important_genes.csv')"
   ]
  },
  {
   "cell_type": "code",
   "execution_count": 7,
   "id": "764974ce",
   "metadata": {},
   "outputs": [],
   "source": [
    "import decoupler as dc\n",
    "dorothea = dc.get_dorothea()\n",
    "progeny = dc.get_progeny()\n",
    "dorothea_genes = list(set(dorothea.source.unique()) & set(dorothea.target.unique()))\n",
    "progeny_genes = list(set(progeny.target.unique()))\n",
    "net_genes = list(set(dorothea_genes+progeny_genes))\n",
    "shared_genes = list(set(net_genes) & set(features_norm_df.columns))"
   ]
  },
  {
   "cell_type": "code",
   "execution_count": 8,
   "id": "4979e4bc",
   "metadata": {},
   "outputs": [
    {
     "name": "stdout",
     "output_type": "stream",
     "text": [
      "5-FU\n",
      "Afatinib\n",
      "Bortezomib\n",
      "Celecoxib\n",
      "Disulfuram\n",
      "Everolimus\n",
      "Gemcitabine\n",
      "K-ras(G12C) Inhibitor 9\n",
      "KU-55933\n",
      "LY2874455\n",
      "Lapatinib\n",
      "MK-2206\n",
      "Nutlin-3\n",
      "OSI-420\n",
      "Olaparib\n",
      "Oxaliplatin\n",
      "Paclitaxel\n",
      "Ruxolitinib\n",
      "SB5225334\n",
      "SF1670\n",
      "SGI-1776\n",
      "SN-38\n",
      "Selumetinib\n",
      "Sunitinib\n",
      "TPCA-1\n",
      "WIKI4\n"
     ]
    }
   ],
   "source": [
    "t = 0.7\n",
    "extra_important_genes = pd.DataFrame()\n",
    "for drug, drug_rows in important_genes.groupby('drug'):\n",
    "    print(drug)\n",
    "    drug_genes = drug_rows.gene.values\n",
    "    other_genes = (set(shared_genes) - set(drug_genes))\n",
    "    rel_genes = feat_corr.loc[drug_genes][other_genes]\n",
    "    for gene, row in rel_genes.iterrows():\n",
    "        pos_corr = row[row >= t].index.tolist()\n",
    "        neg_corr = row[row <= -t].index.tolist()\n",
    "        lin_reg_coef = drug_rows[drug_rows.gene == gene].lin_reg_coef.values[0]\n",
    "        shap = drug_rows[drug_rows.gene == gene].shap.values[0]\n",
    "        if len(pos_corr)>0:\n",
    "            extra_important_genes = extra_important_genes.append(pd.DataFrame({'drug': [drug]*len(pos_corr),\n",
    "                                                                          'gene': pos_corr,\n",
    "                                                                           'lin_reg_coef': lin_reg_coef,\n",
    "                                                                           'shap': shap\n",
    "                                                                          }))\n",
    "        if len(neg_corr)>0:\n",
    "            extra_important_genes = extra_important_genes.append(pd.DataFrame({'drug': [drug]*len(neg_corr),\n",
    "                                                                          'gene': neg_corr,\n",
    "                                                                           'lin_reg_coef': -lin_reg_coef,\n",
    "                                                                           'shap': -shap\n",
    "                                                                          }))\n",
    "extra_important_genes = extra_important_genes.reset_index(drop = True)"
   ]
  },
  {
   "cell_type": "code",
   "execution_count": 9,
   "id": "c3a094dd",
   "metadata": {},
   "outputs": [],
   "source": [
    "vc = extra_important_genes[['drug', 'gene']].value_counts()\n",
    "for row in vc[vc>1].iteritems():\n",
    "    to_remove = extra_important_genes[(extra_important_genes.drug == row[0][0])&(extra_important_genes.gene == row[0][1])]\n",
    "    extra_important_genes = extra_important_genes.drop(index = to_remove.index)"
   ]
  },
  {
   "cell_type": "code",
   "execution_count": 10,
   "id": "8d650609",
   "metadata": {},
   "outputs": [],
   "source": [
    "important_genes.append(extra_important_genes).to_csv('feature_importance/Pancreatic/AUC_zscore/SHAP_important_genes_ext.csv')"
   ]
  },
  {
   "cell_type": "code",
   "execution_count": null,
   "id": "f16795f6",
   "metadata": {},
   "outputs": [],
   "source": []
  }
 ],
 "metadata": {
  "kernelspec": {
   "display_name": "Python 3",
   "language": "python",
   "name": "python3"
  },
  "language_info": {
   "codemirror_mode": {
    "name": "ipython",
    "version": 3
   },
   "file_extension": ".py",
   "mimetype": "text/x-python",
   "name": "python",
   "nbconvert_exporter": "python",
   "pygments_lexer": "ipython3",
   "version": "3.9.12"
  }
 },
 "nbformat": 4,
 "nbformat_minor": 5
}
